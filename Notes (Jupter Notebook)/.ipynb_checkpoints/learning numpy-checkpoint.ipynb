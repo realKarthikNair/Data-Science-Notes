{
 "cells": [
  {
   "cell_type": "markdown",
   "id": "543e172c",
   "metadata": {},
   "source": [
    "## <font color=blue>Numpy Notes</font>\n",
    "   \n",
    "   *by [Karthik Nair](https://realkarthiknair.github.io)*\n",
    "\n",
    "#### <font color=maroon><i>Notes compiled from multiple sources including the Official Numpy Documentation</i></font>"
   ]
  },
  {
   "cell_type": "markdown",
   "id": "3b716ca9",
   "metadata": {},
   "source": [
    "### <font color=green>Numpy - introduction</font>\n",
    "\n",
    "NumPy is the fundamental package for scientific computing in Python. It is a Python library that provides a multi-dimensional array object, various derived objects (such as masked [arrays](https://www.geeksforgeeks.org/introduction-to-arrays/) and [matrices](https://www.mathsisfun.com/algebra/matrix-introduction.html)), and an assortment of routines for\n",
    "fast operations on arrays, including mathematical, logical, shape manipulation, sorting, selecting, I/O, discrete Fourier\n",
    "transforms, basic linear algebra, basic statistical operations, random simulation and much more\n",
    "\n",
    "### <font color=green>Why is numpy faster than lists?</font>\n",
    "\n",
    "Numpy uses ndarray.\n",
    "An ndarray is a collection of homogeneous data-types that are stored in contiguous memory locations. \n",
    "On the other hand, a list in Python is a collection of heterogeneous data types stored in non-contiguous memory locations.\n",
    "The NumPy package breaks down a task into multiple fragments and then processes all the fragments parallelly.\n",
    "\n",
    "Ndarry classes are used to represent both Matrices and Vectors\n"
   ]
  },
  {
   "cell_type": "markdown",
   "id": "52821f0f",
   "metadata": {},
   "source": [
    "### <font color=green>How are NumPy Arrays different from Python lists?</font>\n",
    "\n",
    "NumPy arrays have a fixed size at creation, unlike Python lists (which can grow dynamically). Changing the size\n",
    "of an ndarray will create a new array and delete the original\n",
    "\n",
    "The elements in a NumPy array are all required to be of the same data type, and thus will be the same size in\n",
    "memory. The exception: one can have arrays of (Python, including NumPy) objects, thereby allowing for array \n",
    "of different sized elements"
   ]
  },
  {
   "cell_type": "markdown",
   "id": "a1a0038b",
   "metadata": {},
   "source": [
    "<font color=maroon>The NumPy package integrates C, C++, and Fortran codes in Python.  \n",
    "These programming languages have very little execution time compared to Python</font>"
   ]
  },
  {
   "cell_type": "markdown",
   "id": "bce4eddb",
   "metadata": {},
   "source": [
    "### <font color=blue>Importing the NumPy library</font>"
   ]
  },
  {
   "cell_type": "code",
   "execution_count": 1,
   "id": "5f4ae9c9",
   "metadata": {},
   "outputs": [],
   "source": [
    "import numpy as np # it has become a convention to use np as the alias for numpy "
   ]
  },
  {
   "cell_type": "markdown",
   "id": "13d16787",
   "metadata": {},
   "source": [
    "### <font color=blue>Creating NumPy Arrays</font>"
   ]
  },
  {
   "cell_type": "markdown",
   "id": "65f30cb2",
   "metadata": {},
   "source": [
    "#### <font color=green>Using `array` function</font>\n",
    "You can create an array from a regular Python list or tuple using the array function"
   ]
  },
  {
   "cell_type": "code",
   "execution_count": 2,
   "id": "7aed92b6",
   "metadata": {},
   "outputs": [
    {
     "name": "stdout",
     "output_type": "stream",
     "text": [
      "[1 2 3 4]\n",
      "[34  2  0  2]\n"
     ]
    }
   ],
   "source": [
    "my_array=np.array([1,2,3,4]) #from list\n",
    "\n",
    "new_array=np.array((34,2,0,2)) #from tuple\n",
    "\n",
    "print(my_array)\n",
    "print(new_array)"
   ]
  },
  {
   "cell_type": "markdown",
   "id": "9eb98946",
   "metadata": {},
   "source": [
    "An optional parameter `ndmin` specifies the minimum number of dimensions that the resulting array should have. \n",
    "> Ones will be prepended to the shape as needed to meet this requirement.\n"
   ]
  },
  {
   "cell_type": "code",
   "execution_count": 3,
   "id": "88fdd10d",
   "metadata": {
    "scrolled": true
   },
   "outputs": [
    {
     "name": "stdout",
     "output_type": "stream",
     "text": [
      "[[[32 11 43 22]]]\n",
      "(1, 1, 4)\n"
     ]
    }
   ],
   "source": [
    "new_array=np.array([32,11,43,22],ndmin=3)\n",
    "print(new_array)\n",
    "print(new_array.shape) "
   ]
  },
  {
   "cell_type": "code",
   "execution_count": 4,
   "id": "05fbcf89",
   "metadata": {
    "scrolled": true
   },
   "outputs": [
    {
     "name": "stdout",
     "output_type": "stream",
     "text": [
      "<class 'numpy.ndarray'>\n"
     ]
    }
   ],
   "source": [
    "array0=np.array([1,2,3,4]) \n",
    "\n",
    "print(type(array0)) # returns <class 'numpy.ndarray'>"
   ]
  },
  {
   "cell_type": "markdown",
   "id": "1710ffc3",
   "metadata": {},
   "source": [
    "#### <font color=green>Using *placeholder* functions</font>\n",
    "Placeholder functions are used when we need to create an array with its size known, but elements unknown (intially)\n",
    "For example, we might need to create an array to store data of 10 students where the elements would be filled later"
   ]
  },
  {
   "cell_type": "markdown",
   "id": "ba8255ee",
   "metadata": {},
   "source": [
    "<font color=maroon>np.zeros</font> : creates an array full of zeros"
   ]
  },
  {
   "cell_type": "code",
   "execution_count": 5,
   "id": "009e7063",
   "metadata": {
    "scrolled": true
   },
   "outputs": [
    {
     "data": {
      "text/plain": [
       "array([[0., 0., 0., 0.],\n",
       "       [0., 0., 0., 0.]])"
      ]
     },
     "execution_count": 5,
     "metadata": {},
     "output_type": "execute_result"
    }
   ],
   "source": [
    "np.zeros((2,4))"
   ]
  },
  {
   "cell_type": "markdown",
   "id": "1dfb0894",
   "metadata": {},
   "source": [
    "<font color=maroon>np.ones</font> : returns an array full of ones"
   ]
  },
  {
   "cell_type": "code",
   "execution_count": 6,
   "id": "b75caf44",
   "metadata": {},
   "outputs": [
    {
     "data": {
      "text/plain": [
       "array([[1., 1., 1., 1.],\n",
       "       [1., 1., 1., 1.]])"
      ]
     },
     "execution_count": 6,
     "metadata": {},
     "output_type": "execute_result"
    }
   ],
   "source": [
    "np.ones((2,4))"
   ]
  },
  {
   "cell_type": "markdown",
   "id": "2b9ea3c2",
   "metadata": {},
   "source": [
    "<font color=maroon>np.empty</font> : returns an array whose initial content is random"
   ]
  },
  {
   "cell_type": "code",
   "execution_count": 7,
   "id": "d029e43f",
   "metadata": {},
   "outputs": [
    {
     "data": {
      "text/plain": [
       "array([[4.65317268e-310, 0.00000000e+000],\n",
       "       [4.65418846e-310, 4.65418852e-310]])"
      ]
     },
     "execution_count": 7,
     "metadata": {},
     "output_type": "execute_result"
    }
   ],
   "source": [
    "np.empty((2,2)) #values could be anything"
   ]
  },
  {
   "cell_type": "markdown",
   "id": "303853f1",
   "metadata": {},
   "source": [
    "<font color=maroon>np.full : </font> returns an array of the given shape filled with the fill_value"
   ]
  },
  {
   "cell_type": "code",
   "execution_count": 8,
   "id": "6449a1e7",
   "metadata": {},
   "outputs": [
    {
     "data": {
      "text/plain": [
       "array([[10, 10],\n",
       "       [10, 10]])"
      ]
     },
     "execution_count": 8,
     "metadata": {},
     "output_type": "execute_result"
    }
   ],
   "source": [
    "np.full((2,2), fill_value=10)\n",
    "np.full((2,2), 10)"
   ]
  },
  {
   "cell_type": "markdown",
   "id": "46f22f7d",
   "metadata": {},
   "source": []
  },
  {
   "cell_type": "markdown",
   "id": "e4b21a06",
   "metadata": {},
   "source": [
    "#### <font color=green>Functions to create `sequence` of numbers</font>"
   ]
  },
  {
   "cell_type": "markdown",
   "id": "20bb2d0f",
   "metadata": {},
   "source": [
    "<font color=maroon>np.arange</font> : create sequences of numbers in a format analogous to Python's built-in `range`"
   ]
  },
  {
   "cell_type": "code",
   "execution_count": 9,
   "id": "9935e37e",
   "metadata": {},
   "outputs": [
    {
     "data": {
      "text/plain": [
       "array([0, 1, 2, 3, 4, 5, 6, 7, 8, 9])"
      ]
     },
     "execution_count": 9,
     "metadata": {},
     "output_type": "execute_result"
    }
   ],
   "source": [
    "a=np.arange(10)\n",
    "a"
   ]
  },
  {
   "cell_type": "code",
   "execution_count": 10,
   "id": "42f957f9",
   "metadata": {},
   "outputs": [
    {
     "data": {
      "text/plain": [
       "array([10, 15, 20, 25])"
      ]
     },
     "execution_count": 10,
     "metadata": {},
     "output_type": "execute_result"
    }
   ],
   "source": [
    "np.arange( 10, 30, 5 )"
   ]
  },
  {
   "cell_type": "code",
   "execution_count": 11,
   "id": "0484bdcc",
   "metadata": {},
   "outputs": [
    {
     "data": {
      "text/plain": [
       "array([0. , 0.3, 0.6, 0.9, 1.2, 1.5, 1.8])"
      ]
     },
     "execution_count": 11,
     "metadata": {},
     "output_type": "execute_result"
    }
   ],
   "source": [
    "np.arange( 0, 2, 0.3 ) # it also accepts float arguments"
   ]
  },
  {
   "cell_type": "markdown",
   "id": "7678a037",
   "metadata": {},
   "source": [
    "<font color=maroon>np.linspace</font> : receives as an argument the number of elements that we want, instead of the step values"
   ]
  },
  {
   "cell_type": "code",
   "execution_count": 12,
   "id": "e7c8506c",
   "metadata": {
    "scrolled": false
   },
   "outputs": [
    {
     "data": {
      "text/plain": [
       "array([0.  , 0.25, 0.5 , 0.75, 1.  , 1.25, 1.5 , 1.75, 2.  ])"
      ]
     },
     "execution_count": 12,
     "metadata": {},
     "output_type": "execute_result"
    }
   ],
   "source": [
    "np.linspace( 0, 2, 9 )"
   ]
  },
  {
   "cell_type": "markdown",
   "id": "8e29bc13",
   "metadata": {},
   "source": [
    "### <font color=blue>Dimensions of an array</font>\n",
    "\n",
    "Ndarrays can be of different dimensions or **Axes**\n",
    "e.g. 0D , 1D (known as Vector), 2D (known as Matrix), 3D, etc \n",
    "Arrays of dimensions 3 or higher are commonly known as **Tensors** \n",
    "\n",
    "<font color=maroon><b>Rank</b> of an Array is the number of dimensions in an array</font>"
   ]
  },
  {
   "cell_type": "markdown",
   "id": "d21a1238",
   "metadata": {},
   "source": [
    "### <font color=blue>Shape of an array</font>\n",
    "\n",
    "Shape of an array is a tuple with \n"
   ]
  },
  {
   "cell_type": "markdown",
   "id": "08586c62",
   "metadata": {},
   "source": [
    "### <font color=blue>Arrays of different dimensions</font>"
   ]
  },
  {
   "cell_type": "markdown",
   "id": "4fa2c779",
   "metadata": {},
   "source": [
    "#### <font color=green>0D Arrays</font>\n",
    "\n",
    "Zero dimensional arrays are **scalars**.\n",
    "They can't be accessed using indices but can be converted into scalars\n",
    "Zero dimensional arrays are NOT equivalent to length-1 1D arrays\n"
   ]
  },
  {
   "cell_type": "code",
   "execution_count": 13,
   "id": "0ec84f8f",
   "metadata": {},
   "outputs": [
    {
     "data": {
      "text/plain": [
       "array(27)"
      ]
     },
     "execution_count": 13,
     "metadata": {},
     "output_type": "execute_result"
    }
   ],
   "source": [
    "# Creating a zero dimensional array\n",
    "\n",
    "array1=np.array(27)\n",
    "\n",
    "array1"
   ]
  },
  {
   "cell_type": "code",
   "execution_count": 14,
   "id": "e59f4305",
   "metadata": {},
   "outputs": [
    {
     "data": {
      "text/plain": [
       "()"
      ]
     },
     "execution_count": 14,
     "metadata": {},
     "output_type": "execute_result"
    }
   ],
   "source": [
    "array1.shape # returns () , which indicates zero  dimension"
   ]
  },
  {
   "cell_type": "code",
   "execution_count": 15,
   "id": "9170a71a",
   "metadata": {},
   "outputs": [
    {
     "data": {
      "text/plain": [
       "0"
      ]
     },
     "execution_count": 15,
     "metadata": {},
     "output_type": "execute_result"
    }
   ],
   "source": [
    "array1.ndim # returns 0, which indicates 0 dimension"
   ]
  },
  {
   "cell_type": "code",
   "execution_count": 16,
   "id": "6671b251",
   "metadata": {},
   "outputs": [
    {
     "data": {
      "text/plain": [
       "27"
      ]
     },
     "execution_count": 16,
     "metadata": {},
     "output_type": "execute_result"
    }
   ],
   "source": [
    "# converting zero-dimensional arrays to scalars\n",
    "scalar_array=array1.item()\n",
    "scalar_array"
   ]
  },
  {
   "cell_type": "markdown",
   "id": "a75fc570",
   "metadata": {},
   "source": [
    "### <font color=brown>Note</font>\n",
    "<font color=purple>For a zero dimensional array:</font>  \n",
    "<font color=maroon>\n",
    "`print(array1[0]) #results in an error`\n",
    "- Trying to access the value in a 0D array using index results in an error</font>  \n",
    "reason : 0D ndarrays are considered scalars\n"
   ]
  },
  {
   "cell_type": "markdown",
   "id": "cf458b0a",
   "metadata": {},
   "source": [
    "#### <font color=green>1D Arrays</font>\n",
    "In a 1D array, a single argument is passed to access a specific value\n",
    "e.g in array [1,2,3,4], element '3' can be accessed with its index 2"
   ]
  },
  {
   "cell_type": "code",
   "execution_count": 17,
   "id": "6500101d",
   "metadata": {},
   "outputs": [
    {
     "data": {
      "text/plain": [
       "array([27])"
      ]
     },
     "execution_count": 17,
     "metadata": {},
     "output_type": "execute_result"
    }
   ],
   "source": [
    "# Creating a length-1 one dimensional array\n",
    "\n",
    "array2=np.array([27]) #unlike zero-dimensional arrays, in len1 1D arrays, we pass the array element in sq brackets\n",
    "\n",
    "array2\n"
   ]
  },
  {
   "cell_type": "code",
   "execution_count": 18,
   "id": "d9c4b9f8",
   "metadata": {},
   "outputs": [
    {
     "data": {
      "text/plain": [
       "array([1, 2, 3, 4])"
      ]
     },
     "execution_count": 18,
     "metadata": {},
     "output_type": "execute_result"
    }
   ],
   "source": [
    "# with length more than 1\n",
    "\n",
    "array3=np.array([1,2,3,4]) \n",
    "\n",
    "array3"
   ]
  },
  {
   "cell_type": "code",
   "execution_count": 19,
   "id": "91fda3f6",
   "metadata": {},
   "outputs": [
    {
     "data": {
      "text/plain": [
       "27"
      ]
     },
     "execution_count": 19,
     "metadata": {},
     "output_type": "execute_result"
    }
   ],
   "source": [
    "array2[0] # element can be accessed using index"
   ]
  },
  {
   "cell_type": "code",
   "execution_count": 20,
   "id": "780708ce",
   "metadata": {},
   "outputs": [
    {
     "data": {
      "text/plain": [
       "3"
      ]
     },
     "execution_count": 20,
     "metadata": {},
     "output_type": "execute_result"
    }
   ],
   "source": [
    "array3[2] # accessing the third element in array"
   ]
  },
  {
   "cell_type": "code",
   "execution_count": 21,
   "id": "7529a94f",
   "metadata": {},
   "outputs": [
    {
     "data": {
      "text/plain": [
       "(4,)"
      ]
     },
     "execution_count": 21,
     "metadata": {},
     "output_type": "execute_result"
    }
   ],
   "source": [
    "array3.shape # returns (4,) which indicates an array with 1 dimension and 4 elements "
   ]
  },
  {
   "cell_type": "code",
   "execution_count": 22,
   "id": "5c92a103",
   "metadata": {},
   "outputs": [
    {
     "data": {
      "text/plain": [
       "1"
      ]
     },
     "execution_count": 22,
     "metadata": {},
     "output_type": "execute_result"
    }
   ],
   "source": [
    "array3.ndim # returns 1, indicating 1 dimension"
   ]
  },
  {
   "cell_type": "markdown",
   "id": "b0a20144",
   "metadata": {},
   "source": [
    "#### <font color=green>2D Arrays</font>\n",
    "In 2D array, 2 arguments needs to be passed to access a single element"
   ]
  },
  {
   "cell_type": "code",
   "execution_count": 23,
   "id": "88b3b413",
   "metadata": {},
   "outputs": [
    {
     "data": {
      "text/plain": [
       "array([[ 1,  2,  3],\n",
       "       [43, 22, 11]])"
      ]
     },
     "execution_count": 23,
     "metadata": {},
     "output_type": "execute_result"
    }
   ],
   "source": [
    "array4=np.array([[1,2,3],[43,22,11]]) # Creating a 2D numpy array \n",
    "\n",
    "array4\n",
    "\n",
    "# for instance, np.array([[1,2,3],[3,4,22],[43,22,11]]) indicates a 2D array with 3 layers and 3 elements in each layer"
   ]
  },
  {
   "cell_type": "code",
   "execution_count": 24,
   "id": "efbfc3bf",
   "metadata": {},
   "outputs": [
    {
     "data": {
      "text/plain": [
       "22"
      ]
     },
     "execution_count": 24,
     "metadata": {},
     "output_type": "execute_result"
    }
   ],
   "source": [
    "array4[1][1] \n",
    "# Accessing the second element from the 2nd layer of the 2nd dimension"
   ]
  },
  {
   "cell_type": "code",
   "execution_count": 25,
   "id": "3b43d04a",
   "metadata": {},
   "outputs": [
    {
     "data": {
      "text/plain": [
       "(2, 3)"
      ]
     },
     "execution_count": 25,
     "metadata": {},
     "output_type": "execute_result"
    }
   ],
   "source": [
    "array4.shape # returns (2,3)"
   ]
  },
  {
   "cell_type": "code",
   "execution_count": 26,
   "id": "a14c653d",
   "metadata": {},
   "outputs": [
    {
     "data": {
      "text/plain": [
       "2"
      ]
     },
     "execution_count": 26,
     "metadata": {},
     "output_type": "execute_result"
    }
   ],
   "source": [
    "array4.ndim"
   ]
  },
  {
   "cell_type": "markdown",
   "id": "b8716def",
   "metadata": {},
   "source": [
    "#### <font color=green>3D Arrays</font>\n",
    "\n",
    "In 3D array, 3 argument needs to be passed to access a single element"
   ]
  },
  {
   "cell_type": "code",
   "execution_count": 27,
   "id": "2e0efb57",
   "metadata": {},
   "outputs": [
    {
     "data": {
      "text/plain": [
       "array([[[22,  3, 32],\n",
       "        [33,  1, 32]],\n",
       "\n",
       "       [[44, 34, 21],\n",
       "        [ 3, 29, 32]]])"
      ]
     },
     "execution_count": 27,
     "metadata": {},
     "output_type": "execute_result"
    }
   ],
   "source": [
    "array5=np.array([[[22,3,32],[33,1,32]],[[44,34,21],[3,29,32]]]) \n",
    "# creating a 3D array with 2 layers and 2 sub-layers within each layer and 3 elements in each sub-layer\n",
    "\n",
    "array5"
   ]
  },
  {
   "cell_type": "code",
   "execution_count": 28,
   "id": "9ab77ad3",
   "metadata": {},
   "outputs": [
    {
     "data": {
      "text/plain": [
       "29"
      ]
     },
     "execution_count": 28,
     "metadata": {},
     "output_type": "execute_result"
    }
   ],
   "source": [
    "array5[1][1][1] \n",
    "# accessing the 2nd element of the 2nd sub-layer of the second layer, ie 29"
   ]
  },
  {
   "cell_type": "code",
   "execution_count": 29,
   "id": "461cbda5",
   "metadata": {},
   "outputs": [
    {
     "data": {
      "text/plain": [
       "3"
      ]
     },
     "execution_count": 29,
     "metadata": {},
     "output_type": "execute_result"
    }
   ],
   "source": [
    "array5.ndim"
   ]
  },
  {
   "cell_type": "code",
   "execution_count": 30,
   "id": "516fabda",
   "metadata": {},
   "outputs": [
    {
     "data": {
      "text/plain": [
       "(2, 2, 3)"
      ]
     },
     "execution_count": 30,
     "metadata": {},
     "output_type": "execute_result"
    }
   ],
   "source": [
    "array5.shape"
   ]
  },
  {
   "cell_type": "code",
   "execution_count": 31,
   "id": "402cb3c5",
   "metadata": {},
   "outputs": [
    {
     "data": {
      "text/plain": [
       "array([[[22,  3, 32],\n",
       "        [33,  1, 32],\n",
       "        [33, 42, 38]],\n",
       "\n",
       "       [[44, 34, 21],\n",
       "        [ 3, 22, 32],\n",
       "        [99, 43, 88]]])"
      ]
     },
     "execution_count": 31,
     "metadata": {},
     "output_type": "execute_result"
    }
   ],
   "source": [
    "array6=np.array([[[22,3,32],[33,1,32],[33,42,38]],[[44,34,21],[3,22,32],[99,43,88]]])\n",
    "# creating a 3D array with 2 layers and 3 sub-layers within each layer and 3 elements in each layer\n",
    "\n",
    "array6"
   ]
  },
  {
   "cell_type": "code",
   "execution_count": 32,
   "id": "7b5858c0",
   "metadata": {},
   "outputs": [
    {
     "data": {
      "text/plain": [
       "3"
      ]
     },
     "execution_count": 32,
     "metadata": {},
     "output_type": "execute_result"
    }
   ],
   "source": [
    "array6.ndim"
   ]
  },
  {
   "cell_type": "code",
   "execution_count": 33,
   "id": "8b462568",
   "metadata": {},
   "outputs": [
    {
     "data": {
      "text/plain": [
       "(2, 3, 3)"
      ]
     },
     "execution_count": 33,
     "metadata": {},
     "output_type": "execute_result"
    }
   ],
   "source": [
    "array6.shape"
   ]
  },
  {
   "cell_type": "markdown",
   "id": "f5709e75",
   "metadata": {},
   "source": [
    "### <font color=blue>Printing Arrays</font>"
   ]
  },
  {
   "cell_type": "markdown",
   "id": "ff6cb5c3",
   "metadata": {},
   "source": [
    "When you print an array, NumPy displays it in a similar way to nested lists, but with the following layout:\n",
    "• the last axis is printed from left to right,\n",
    "• the second-to-last is printed from top to bottom,\n",
    "• the rest are also printed from top to bottom, with each slice separated from the next by an empty line."
   ]
  },
  {
   "cell_type": "markdown",
   "id": "9d5ed213",
   "metadata": {},
   "source": [
    "![img](demo.jpeg)"
   ]
  },
  {
   "cell_type": "markdown",
   "id": "786a4b83",
   "metadata": {},
   "source": [
    "<font color=maroon>One-dimensional arrays are then printed as rows, bidimensionals as matrices and tridimensionals as lists of matrices</font>"
   ]
  },
  {
   "cell_type": "markdown",
   "id": "9a92ec84",
   "metadata": {},
   "source": [
    "<font color=green>If an array is too large to be printed, NumPy automatically skips the central part of the array and only prints the corners:</font>\n",
    "\n",
    "To disable this behaviour and force numpy to print the whole array, we can change the printing options by using the np.set_printoptions method and passing either of the two arguments :\n",
    "    \n",
    " - np.set_printoptions(threshold=np.inf)\n",
    " - np.set_printoptions(threshold=sys.maxsize)    <i>after importing sys</i>"
   ]
  },
  {
   "cell_type": "code",
   "execution_count": 34,
   "id": "8496ff4b",
   "metadata": {},
   "outputs": [],
   "source": [
    "import sys\n",
    "np.set_printoptions(threshold=sys.maxsize)\n",
    "# now printing array a would print all the numbers"
   ]
  },
  {
   "cell_type": "markdown",
   "id": "9020654a",
   "metadata": {},
   "source": [
    "### <font color=blue>Some important attributes of an Ndarray</font>  \n",
    "\n",
    "`ndarray.ndim` Lets you see the number of axes(dimensions) of a numpy array  \n",
    "`ndarray.shape` Returns a tuple of integers indicating the size of the array in each dimension  \n",
    "e.g. for a\n",
    "matrix with n rows and m columns, shape will be (n,m). (len(ndarray.shape)==ndarray.ndim)  \n",
    "`ndarray.size` Displays the total number of elements in an array. (This is equal to the product of elements of\n",
    "shape)  \n",
    "`ndarray.dtype` returns an object describing the type of elements in the array  \n",
    "`ndarray.itemsize` returns size (in bytes) of each element of the array (Equivalent to ndarray.dtype.itemsize)  \n",
    "`ndarray.data` returns the buffer containing the actual elements of the array\n"
   ]
  },
  {
   "cell_type": "markdown",
   "id": "4fa682a9",
   "metadata": {},
   "source": [
    "### <font color=blue>Basic Array Operations</font>"
   ]
  },
  {
   "cell_type": "markdown",
   "id": "37a4c0aa",
   "metadata": {},
   "source": [
    "<font color=maroon>Arithmetic operators on arrays apply elementwise</font>"
   ]
  },
  {
   "cell_type": "code",
   "execution_count": 35,
   "id": "33c52ba9",
   "metadata": {},
   "outputs": [
    {
     "data": {
      "text/plain": [
       "array([0, 1, 2, 3])"
      ]
     },
     "execution_count": 35,
     "metadata": {},
     "output_type": "execute_result"
    }
   ],
   "source": [
    "a = np.array( [20,30,40,50] )\n",
    "b = np.arange( 4 )\n",
    "b"
   ]
  },
  {
   "cell_type": "code",
   "execution_count": 36,
   "id": "b4e60c49",
   "metadata": {},
   "outputs": [
    {
     "data": {
      "text/plain": [
       "array([20, 29, 38, 47])"
      ]
     },
     "execution_count": 36,
     "metadata": {},
     "output_type": "execute_result"
    }
   ],
   "source": [
    "c=a-b\n",
    "c"
   ]
  },
  {
   "cell_type": "code",
   "execution_count": 37,
   "id": "dd8efa85",
   "metadata": {},
   "outputs": [
    {
     "data": {
      "text/plain": [
       "array([0, 1, 4, 9])"
      ]
     },
     "execution_count": 37,
     "metadata": {},
     "output_type": "execute_result"
    }
   ],
   "source": [
    "b**2"
   ]
  },
  {
   "cell_type": "code",
   "execution_count": 38,
   "id": "42f75729",
   "metadata": {},
   "outputs": [
    {
     "data": {
      "text/plain": [
       "array([ 9.12945251, -9.88031624,  7.4511316 , -2.62374854])"
      ]
     },
     "execution_count": 38,
     "metadata": {},
     "output_type": "execute_result"
    }
   ],
   "source": [
    "10*np.sin(a)"
   ]
  },
  {
   "cell_type": "code",
   "execution_count": 39,
   "id": "fef4e5c9",
   "metadata": {},
   "outputs": [
    {
     "data": {
      "text/plain": [
       "array([ True, False, False, False])"
      ]
     },
     "execution_count": 39,
     "metadata": {},
     "output_type": "execute_result"
    }
   ],
   "source": [
    "a<30"
   ]
  },
  {
   "cell_type": "markdown",
   "id": "9a9d80ef",
   "metadata": {},
   "source": [
    "<font color=maroon>The product operator * operates elementwise in NumPy arrrays</font>"
   ]
  },
  {
   "cell_type": "code",
   "execution_count": 40,
   "id": "d90f64b2",
   "metadata": {},
   "outputs": [],
   "source": [
    "a2=np.array([[1,2,3],[4,5,6]])"
   ]
  },
  {
   "cell_type": "code",
   "execution_count": 41,
   "id": "994cd59d",
   "metadata": {},
   "outputs": [],
   "source": [
    "a3=np.array([[7,8,9],[10,11,12]])"
   ]
  },
  {
   "cell_type": "code",
   "execution_count": 42,
   "id": "0a3cd015",
   "metadata": {},
   "outputs": [
    {
     "data": {
      "text/plain": [
       "array([[ 7, 16, 27],\n",
       "       [40, 55, 72]])"
      ]
     },
     "execution_count": 42,
     "metadata": {},
     "output_type": "execute_result"
    }
   ],
   "source": [
    "a2*a3"
   ]
  },
  {
   "cell_type": "markdown",
   "id": "0c3e8055",
   "metadata": {},
   "source": [
    "<font color=maroon>The matrix product\n",
    "can be performed using the @ operator (in python >=3.5) or the dot function or method:</font>"
   ]
  },
  {
   "cell_type": "code",
   "execution_count": 43,
   "id": "e61c99d0",
   "metadata": {},
   "outputs": [],
   "source": [
    "a4=np.array([[3,4],[2,2]])"
   ]
  },
  {
   "cell_type": "code",
   "execution_count": 44,
   "id": "0aef0cb4",
   "metadata": {},
   "outputs": [],
   "source": [
    "a5=np.array([[4,2],[9,4]])"
   ]
  },
  {
   "cell_type": "code",
   "execution_count": 45,
   "id": "e5605297",
   "metadata": {},
   "outputs": [
    {
     "data": {
      "text/plain": [
       "array([[48, 22],\n",
       "       [26, 12]])"
      ]
     },
     "execution_count": 45,
     "metadata": {},
     "output_type": "execute_result"
    }
   ],
   "source": [
    "a4@a5 #using @ operator"
   ]
  },
  {
   "cell_type": "code",
   "execution_count": 46,
   "id": "24fa66e2",
   "metadata": {},
   "outputs": [
    {
     "data": {
      "text/plain": [
       "array([[48, 22],\n",
       "       [26, 12]])"
      ]
     },
     "execution_count": 46,
     "metadata": {},
     "output_type": "execute_result"
    }
   ],
   "source": [
    "a4.dot(a5) #using dot function"
   ]
  },
  {
   "cell_type": "code",
   "execution_count": 47,
   "id": "aea41c06",
   "metadata": {},
   "outputs": [],
   "source": [
    "a6=np.array([[1,2,3],[4,5,6]])"
   ]
  },
  {
   "cell_type": "code",
   "execution_count": 48,
   "id": "9e314ff8",
   "metadata": {},
   "outputs": [],
   "source": [
    "a7=np.array([[7,8],[9,10],[11,12]])"
   ]
  },
  {
   "cell_type": "code",
   "execution_count": 49,
   "id": "e9a00634",
   "metadata": {},
   "outputs": [
    {
     "data": {
      "text/plain": [
       "array([[ 58,  64],\n",
       "       [139, 154]])"
      ]
     },
     "execution_count": 49,
     "metadata": {},
     "output_type": "execute_result"
    }
   ],
   "source": [
    "a6@a7 # matrix product of a 2*3 and 3*2 matrix"
   ]
  },
  {
   "cell_type": "code",
   "execution_count": 50,
   "id": "6e3b807b",
   "metadata": {
    "scrolled": true
   },
   "outputs": [
    {
     "data": {
      "text/plain": [
       "array([[ 58,  64],\n",
       "       [139, 154]])"
      ]
     },
     "execution_count": 50,
     "metadata": {},
     "output_type": "execute_result"
    }
   ],
   "source": [
    " a6.dot(a7) # also does matrix product"
   ]
  },
  {
   "cell_type": "code",
   "execution_count": null,
   "id": "18547ead-f60f-45bb-8935-610b8c531b65",
   "metadata": {},
   "outputs": [],
   "source": []
  },
  {
   "cell_type": "code",
   "execution_count": null,
   "id": "2c09f68e-6574-44bf-9a1c-9d08dc342e18",
   "metadata": {},
   "outputs": [],
   "source": []
  },
  {
   "cell_type": "code",
   "execution_count": null,
   "id": "7989fd09-767a-4487-b45a-4720bbac9ef5",
   "metadata": {},
   "outputs": [],
   "source": []
  },
  {
   "cell_type": "code",
   "execution_count": null,
   "id": "38fe6793-1788-417c-8332-c8cf463a05a2",
   "metadata": {},
   "outputs": [],
   "source": []
  }
 ],
 "metadata": {
  "kernelspec": {
   "display_name": "Python 3 (ipykernel)",
   "language": "python",
   "name": "python3"
  },
  "language_info": {
   "codemirror_mode": {
    "name": "ipython",
    "version": 3
   },
   "file_extension": ".py",
   "mimetype": "text/x-python",
   "name": "python",
   "nbconvert_exporter": "python",
   "pygments_lexer": "ipython3",
   "version": "3.10.6"
  },
  "toc-autonumbering": true,
  "toc-showcode": true
 },
 "nbformat": 4,
 "nbformat_minor": 5
}
