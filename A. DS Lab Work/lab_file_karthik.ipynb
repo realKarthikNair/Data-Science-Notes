{
 "cells": [
  {
   "cell_type": "markdown",
   "metadata": {},
   "source": [
    "**1. Suppose you have weather data, telling about the distance and the wind speed. Now you are supposed to calculate and generate a new feature from the data, the time.**"
   ]
  },
  {
   "cell_type": "code",
   "execution_count": 1,
   "metadata": {},
   "outputs": [
    {
     "name": "stdout",
     "output_type": "stream",
     "text": [
      "[2.66666667 0.84615385 1.85714286 6.53333333 1.3125    ]\n"
     ]
    }
   ],
   "source": [
    "import numpy as np\n",
    "distance = np.array([32,11,26,98,21])\n",
    "wind_speed = np.array([12,13,14,15,16])\n",
    "\n",
    "time = distance/wind_speed\n",
    "\n",
    "print(time)"
   ]
  },
  {
   "cell_type": "markdown",
   "metadata": {},
   "source": [
    "**2. Create one, two and three dimensional array using NumPy random function check individual attributes.  \n",
    "i.Print 1D, 2D and 3D array.  \n",
    "ii.NumPy array has its own attribute like datatype, dimension, size, shape find the same for time.  \n",
    "iii.Print first, last and second element of 1D, 2D and 3D array.**"
   ]
  },
  {
   "cell_type": "code",
   "execution_count": 2,
   "metadata": {},
   "outputs": [
    {
     "name": "stdout",
     "output_type": "stream",
     "text": [
      "[49 12 74 95 49  7 43 56 85 55  2 41 34 75 76 91 30 10 82 44  0  2 32 67\n",
      " 77 46 21 65 91 83]\n",
      "\n",
      "[[37 83 67 28 52 76 88 35 48 83 28 50 74 26 62]\n",
      " [12 85 82 86 54 38 97 23 55 24 82 37 98 81 72]\n",
      " [ 3 91 30 63 69 93 33 89 41 68 89 77  5 21 17]]\n",
      "\n",
      "[[[79 82 69 43 40]\n",
      "  [48 25 76 76  2]\n",
      "  [86  9 64 49 43]]\n",
      "\n",
      " [[83 91 94  0 26]\n",
      "  [88 18 45 95 88]\n",
      "  [19 27 45 18 23]]]\n",
      "\n",
      "time \n",
      " datatype: float64, dimension: 1, size: 5, shape: (5,)\n",
      "\n",
      "array0 \n",
      " datatype: int64, dimension: 1, size: 30, shape: (30,)\n",
      "array1 \n",
      " datatype: int64, dimension: 2, size: 45, shape: (3, 15)\n",
      "array2 \n",
      " datatype: int64, dimension: 3, size: 30, shape: (2, 3, 5)\n",
      "\n",
      "array0 \n",
      " first: 49, last: 83, second: 12\n",
      "array1 \n",
      " second row first element : [[12]]\n",
      "array2 \n",
      " last 3 elements of first 2 rows of second matrix:\n",
      " [[[94  0 26]\n",
      "  [45 95 88]]]\n"
     ]
    }
   ],
   "source": [
    "array0=np.random.randint(100,size=30)\n",
    "array1=np.random.randint(100,size=(3,15))\n",
    "array2=np.random.randint(100,size=(2,3,5))\n",
    "\n",
    "# i\n",
    "print(array0, array1, array2, sep='\\n\\n')\n",
    "\n",
    "# ii \n",
    "print(f\"\\ntime \\n datatype: {time.dtype}, dimension: {time.ndim}, size: {time.size}, shape: {time.shape}\")\n",
    "print(f\"\\narray0 \\n datatype: {array0.dtype}, dimension: {array0.ndim}, size: {array0.size}, shape: {array0.shape}\")\n",
    "print(f\"array1 \\n datatype: {array1.dtype}, dimension: {array1.ndim}, size: {array1.size}, shape: {array1.shape}\")\n",
    "print(f\"array2 \\n datatype: {array2.dtype}, dimension: {array2.ndim}, size: {array2.size}, shape: {array2.shape}\")\n",
    "\n",
    "# iii\n",
    "print(f\"\\narray0 \\n first: {array0[0]}, last: {array0[-1]}, second: {array0[1]}\")\n",
    "print(f\"array1 \\n second row first element : {array1[1:2,0:1]}\")\n",
    "print(f\"array2 \\n last 3 elements of first 2 rows of second matrix:\\n {array2[1:2, 0:2, -3:]}\")\n"
   ]
  },
  {
   "cell_type": "markdown",
   "metadata": {},
   "source": [
    "**3. Create an array using arange, print  \n",
    "i.first five elements  \n",
    "ii.element after 5th index  \n",
    "iii.middle subarray  \n",
    "iv.every other element  \n",
    "v.every other element starting at index 1  \n",
    "vi.elements in reversed order**"
   ]
  },
  {
   "cell_type": "code",
   "execution_count": 3,
   "metadata": {},
   "outputs": [
    {
     "name": "stdout",
     "output_type": "stream",
     "text": [
      "\n",
      " first 5 elements: [0 1 2 3 4]\n",
      "\n",
      " element after 5th index: 6\n",
      "\n",
      " middle subarray with 4 elements: \n",
      "[13 14] and [15 16]\n",
      "\n",
      " every other element: [ 0  2  4  6  8 10 12 14 16 18 20 22 24 26 28]\n",
      "\n",
      " every other element starting at index 1: [ 1  3  5  7  9 11 13 15 17 19 21 23 25 27 29]\n",
      "\n",
      " element in reversed order: [29 28 27 26 25 24 23 22 21 20 19 18 17 16 15 14 13 12 11 10  9  8  7  6\n",
      "  5  4  3  2  1  0]\n"
     ]
    }
   ],
   "source": [
    "array3=np.arange(0,30)\n",
    "print(f\"\\n first 5 elements: {array3[:5]}\")\n",
    "print(f\"\\n element after 5th index: {array3[6]}\")\n",
    "n = 4\n",
    "print(f\"\\n middle subarray with {n} elements: \")\n",
    "if n%2==0:\n",
    "    print(f\"{np.array_split(array3,2)[0][-1:-((n//2)+1):-1][::-1]} and {np.array_split(array3,2)[1][0:(n//2)]}\")\n",
    "else:\n",
    "    print(f\"{np.array_split(array3,2)[0][-1:-((n//2)+2):-1][::-1]} and {np.array_split(array3,2)[1][0:(n//2)]}\")\n",
    "print(f\"\\n every other element: {array3[::2]}\")\n",
    "print(f\"\\n every other element starting at index 1: {array3[1::2]}\")\n",
    "print(f\"\\n element in reversed order: {array3[::-1]}\")"
   ]
  },
  {
   "cell_type": "markdown",
   "metadata": {},
   "source": [
    "**4. In question in 2D array, print 2 rows and three columns  \n",
    "i. Create a 2x2 subarray from the original array  \n",
    "ii. Modify subarray (0,0) by 88 and print  \n",
    "iii.Make copy of original array  \n",
    "iv. Print modified and original array**"
   ]
  },
  {
   "cell_type": "code",
   "execution_count": 4,
   "metadata": {},
   "outputs": [
    {
     "name": "stdout",
     "output_type": "stream",
     "text": [
      "First two rows and three columns of \n",
      "\n",
      "[[37 83 67 28 52 76 88 35 48 83 28 50 74 26 62]\n",
      " [12 85 82 86 54 38 97 23 55 24 82 37 98 81 72]\n",
      " [ 3 91 30 63 69 93 33 89 41 68 89 77  5 21 17]] is \n",
      "\n",
      "[[37 83 67]\n",
      " [12 85 82]]\n",
      "\n",
      " original array: \n",
      " [[39 60 88]\n",
      " [31 48 42]\n",
      " [42  0 94]]\n",
      "\n",
      " subarray: \n",
      " [[39 60]\n",
      " [31 48]]\n",
      "\n",
      " modified subarray: \n",
      " [[88 60]\n",
      " [31 48]]\n",
      "\n",
      " original array: \n",
      " [[39 60 88]\n",
      " [31 48 42]\n",
      " [42  0 94]]\n",
      "\n",
      " modified array: \n",
      " [[88 60 88]\n",
      " [31 48 42]\n",
      " [42  0 94]]\n"
     ]
    }
   ],
   "source": [
    "print(f\"First two rows and three columns of \\n\\n{array1} is \\n\\n{array1[:2, :3]}\")\n",
    "\n",
    "array4=np.random.randint(100,size=(3,3))\n",
    "\n",
    "print(f\"\\n original array: \\n {array4}\")\n",
    "array6 = array4.copy()\n",
    "\n",
    "array5 = array4[0:2,0:2]\n",
    "print(f\"\\n subarray: \\n {array5}\")\n",
    "\n",
    "array5[0,0]=88\n",
    "print(f\"\\n modified subarray: \\n {array5}\")\n",
    "\n",
    "print(f\"\\n original array: \\n {array6}\")\n",
    "print(f\"\\n modified array: \\n {array4}\")"
   ]
  },
  {
   "cell_type": "markdown",
   "metadata": {},
   "source": [
    "**5. Create two sample array and  \n",
    "i.combine and print  \n",
    "ii.vertically stack the array and print  \n",
    "iii.horizontally stack the array and print**"
   ]
  },
  {
   "cell_type": "code",
   "execution_count": 5,
   "metadata": {},
   "outputs": [
    {
     "name": "stdout",
     "output_type": "stream",
     "text": [
      "\n",
      " combined array: \n",
      " [[89 47]\n",
      " [94 71]\n",
      " [17 54]\n",
      " [99 39]\n",
      " [67 50]\n",
      " [99 85]]\n",
      "\n",
      " vertically stacked array: \n",
      " [[89 47]\n",
      " [94 71]\n",
      " [17 54]\n",
      " [99 39]\n",
      " [67 50]\n",
      " [99 85]]\n",
      "\n",
      " horizontally stacked array: \n",
      " [[89 47 99 39]\n",
      " [94 71 67 50]\n",
      " [17 54 99 85]]\n"
     ]
    }
   ],
   "source": [
    "array7 = np.random.randint(100,size=(3,2))\n",
    "array8 = np.random.randint(100,size=(3,2))\n",
    "print(f\"\\n combined array: \\n {np.concatenate((array7,array8))}\")\n",
    "print(f\"\\n vertically stacked array: \\n {np.vstack((array7,array8))}\")\n",
    "print(f\"\\n horizontally stacked array: \\n {np.hstack((array7,array8))}\")"
   ]
  },
  {
   "cell_type": "markdown",
   "metadata": {},
   "source": [
    "**6. Compute the covariance matrix of two given NumPy arrays**"
   ]
  },
  {
   "cell_type": "code",
   "execution_count": 6,
   "metadata": {},
   "outputs": [
    {
     "name": "stdout",
     "output_type": "stream",
     "text": [
      "\n",
      " covariance matrix of \n",
      "[[ 8 59]\n",
      " [85 21]] and \n",
      "[[76 37]\n",
      " [78 63]]: \n",
      "\n",
      " [[ 1300.5 -1632.   -994.5  -382.5]\n",
      " [-1632.   2048.   1248.    480. ]\n",
      " [ -994.5  1248.    760.5   292.5]\n",
      " [ -382.5   480.    292.5   112.5]]\n"
     ]
    }
   ],
   "source": [
    "array9 = np.random.randint(100,size=(2,2))\n",
    "array10 = np.random.randint(100,size=(2,2))\n",
    "print(f\"\\n covariance matrix of \\n{array9} and \\n{array10}: \\n\\n {np.cov(array9,array10)}\")"
   ]
  },
  {
   "cell_type": "markdown",
   "metadata": {},
   "source": [
    "**7. Replace negative value with zero in numpy array**"
   ]
  },
  {
   "cell_type": "code",
   "execution_count": 7,
   "metadata": {},
   "outputs": [
    {
     "name": "stdout",
     "output_type": "stream",
     "text": [
      "\n",
      " original array: \n",
      " [[-8  8  3]\n",
      " [ 4 -5 -9]\n",
      " [ 7  4  2]]\n",
      "\n",
      " array after replacing negative values with zero: \n",
      " [[0 8 3]\n",
      " [4 0 0]\n",
      " [7 4 2]]\n"
     ]
    }
   ],
   "source": [
    "array11 = np.random.randint(-10,10,size=(3,3))\n",
    "print(f\"\\n original array: \\n {array11}\")\n",
    "array11[array11<0]=0\n",
    "print(f\"\\n array after replacing negative values with zero: \\n {array11}\")"
   ]
  },
  {
   "cell_type": "markdown",
   "metadata": {},
   "source": [
    "**8. How to Remove columns in Numpy array that contains non-numeric values?**"
   ]
  },
  {
   "cell_type": "code",
   "execution_count": 8,
   "metadata": {},
   "outputs": [
    {
     "name": "stdout",
     "output_type": "stream",
     "text": [
      "Original array: \n",
      "[['33' '2' '241']\n",
      " ['4' 'hel' '6']\n",
      " ['7' '8' '3']]\n",
      "\n",
      "Array after removing non numeric : \n",
      "[['33' '241']\n",
      " ['4' '6']\n",
      " ['7' '3']]\n",
      "\n"
     ]
    }
   ],
   "source": [
    "import numpy as np\n",
    "\n",
    "array12 = np.array([[\"33\",2,241],[4,\"hel\",6],[7,8,3]])\n",
    "\n",
    "print(f\"Original array: \\n{array12}\\n\")\n",
    "\n",
    "numeric_columns = np.array([np.char.isnumeric(col) for col in array12.T]).all(axis=0)\n",
    "\n",
    "array12 = array12[:, numeric_columns]\n",
    "\n",
    "print(f\"Array after removing non numeric : \\n{array12}\\n\")"
   ]
  },
  {
   "cell_type": "markdown",
   "metadata": {},
   "source": [
    "**9. How to insert a space between characters of all the elements of a given\n",
    "NumPy array?**"
   ]
  },
  {
   "cell_type": "code",
   "execution_count": 9,
   "metadata": {},
   "outputs": [
    {
     "name": "stdout",
     "output_type": "stream",
     "text": [
      "['h e l l o' '3 4 5' '3 4 . 2 1']\n"
     ]
    }
   ],
   "source": [
    "array13 = np.array([\"hello\", 345, 34.21])\n",
    "\n",
    "# Insert space between characters\n",
    "array13 = np.char.join(\" \", array13)\n",
    "\n",
    "print(array13)\n"
   ]
  },
  {
   "cell_type": "markdown",
   "id": "45776517",
   "metadata": {},
   "source": [
    "**10. Create a pandas series from a dictionary of values and an ndarray.**"
   ]
  },
  {
   "cell_type": "code",
   "execution_count": 10,
   "id": "1bfef5fa",
   "metadata": {},
   "outputs": [
    {
     "name": "stdout",
     "output_type": "stream",
     "text": [
      "Android 4.4     19\n",
      "Android 5.0     21\n",
      "Android 5.1     22\n",
      "Android 6.0     23\n",
      "Android 7.0     24\n",
      "Android 7.1     25\n",
      "Android 8.0     26\n",
      "Android 8.1     27\n",
      "Android 9.0     28\n",
      "Android 10.0    29\n",
      "Android 11.0    30\n",
      "Android 12.0    31\n",
      "Android 12.1    32\n",
      "dtype: int64\n",
      "0          Kitkat\n",
      "1        Lollipop\n",
      "2        Lollipop\n",
      "3     Marshmallow\n",
      "4          Nougat\n",
      "5          Nougat\n",
      "6            Oreo\n",
      "7            Oreo\n",
      "8             Pie\n",
      "9               Q\n",
      "10              R\n",
      "11              S\n",
      "12             R+\n",
      "dtype: object\n"
     ]
    }
   ],
   "source": [
    "import pandas as pd\n",
    "import numpy as np\n",
    "\n",
    "Andoid_versions = {\"Android 4.4\": 19, \"Android 5.0\": 21, \"Android 5.1\": 22, \"Android 6.0\": 23, \"Android 7.0\": 24, \"Android 7.1\": 25, \"Android 8.0\": 26, \"Android 8.1\": 27, \"Android 9.0\": 28, \"Android 10.0\": 29, \"Android 11.0\": 30, \"Android 12.0\": 31, \"Android 12.1\" : 32}\n",
    "\n",
    "s0 = pd.Series(Andoid_versions)\n",
    "\n",
    "print(s0)\n",
    "\n",
    "Android_codenames = np.array([\"Kitkat\", \"Lollipop\", \"Lollipop\", \"Marshmallow\", \"Nougat\", \"Nougat\", \"Oreo\", \"Oreo\", \"Pie\", \"Q\", \"R\", \"S\", \"R+\"])\n",
    "\n",
    "s1 = pd.Series(Android_codenames)\n",
    "\n",
    "print(s1)\n"
   ]
  },
  {
   "cell_type": "markdown",
   "id": "7b3180b8",
   "metadata": {},
   "source": [
    "**11. Create a Series and print all the elements that are above 75th percentile.**"
   ]
  },
  {
   "cell_type": "code",
   "execution_count": 11,
   "id": "fd5088fa",
   "metadata": {},
   "outputs": [
    {
     "name": "stdout",
     "output_type": "stream",
     "text": [
      "Elements above 75th percentile: 4    67\n",
      "5    71\n",
      "dtype: int64\n",
      "Elements above 75th percentile: 4    67\n",
      "5    71\n",
      "dtype: int64\n"
     ]
    }
   ],
   "source": [
    "s2 = pd.Series([13, 15, 16, 33, 67, 71, 55])\n",
    "print(f\"Elements above 75th percentile: {s2[s2 > s2.quantile(.75)]}\")\n",
    "print(f\"Elements above 75th percentile: {s2[s2 > np.percentile(s2, 75)]}\")"
   ]
  },
  {
   "cell_type": "markdown",
   "id": "b84732a6",
   "metadata": {},
   "source": [
    "**12. Perform sorting on Series data and DataFrames**"
   ]
  },
  {
   "cell_type": "code",
   "execution_count": 12,
   "id": "3482c7b5",
   "metadata": {},
   "outputs": [
    {
     "name": "stdout",
     "output_type": "stream",
     "text": [
      "a     1\n",
      "d     4\n",
      "t    20\n",
      "w    23\n",
      "x    24\n",
      "dtype: int64\n",
      "    x  y   z\n",
      "1   1  2   7\n",
      "2   4  3   8\n",
      "4  20  5  10\n",
      "3  23  4   9\n",
      "0  24  1   6\n"
     ]
    }
   ],
   "source": [
    "# Perform sorting on Series data and DataFrames\n",
    "\n",
    "s3 = pd.Series({\"x\": 24, \"a\": 1, \"d\": 4, \"w\": 23, \"t\": 20})\n",
    "print(s3.sort_values())\n",
    "\n",
    "df0 = pd.DataFrame({\"x\": [24, 1, 4, 23, 20], \"y\": [1, 2, 3, 4, 5], \"z\": [6, 7, 8, 9, 10]})\n",
    "print(df0.sort_values(by=\"x\"))\n",
    "\n"
   ]
  },
  {
   "cell_type": "markdown",
   "id": "b4920034",
   "metadata": {},
   "source": [
    "**13. Write a program to implement pivot() and pivot-table() on a DataFrame**"
   ]
  },
  {
   "cell_type": "code",
   "execution_count": 13,
   "id": "99dcaa14",
   "metadata": {},
   "outputs": [
    {
     "name": "stdout",
     "output_type": "stream",
     "text": [
      "Pivot\n",
      "version         4.4     5.0     6.0     7.0\n",
      "codename                                   \n",
      "Lollipop        NaN  2014.0     NaN     NaN\n",
      "Marshmallow     NaN     NaN  2015.0     NaN\n",
      "Nougat          NaN     NaN     NaN  2016.0\n",
      "kitkat       2013.0     NaN     NaN     NaN\n",
      "\n",
      "Pivot Table\n",
      "version         4.4     5.0     6.0     7.0\n",
      "codename                                   \n",
      "Lollipop        NaN  2014.0     NaN     NaN\n",
      "Marshmallow     NaN     NaN  2015.0     NaN\n",
      "Nougat          NaN     NaN     NaN  2016.0\n",
      "kitkat       2013.0     NaN     NaN     NaN\n",
      "\n"
     ]
    }
   ],
   "source": [
    "# Write a program to implement pivot() and pivot-table() on a DataFrame\n",
    "\n",
    "df1 = pd.DataFrame({\n",
    "    'codename': [\"kitkat\", \"Lollipop\", \"Marshmallow\", \"Nougat\"],\n",
    "    'version': [4.4, 5.0, 6.0, 7.0],\n",
    "    'year': [2013, 2014, 2015, 2016]\n",
    "})\n",
    "\n",
    "pivot0 = df1.pivot(index=\"codename\", columns=\"version\", values=\"year\")\n",
    "print(f\"Pivot\\n{pivot0}\\n\")\n",
    "\n",
    "pivot1 = df1.pivot_table(index=\"codename\", columns=\"version\", values=\"year\")\n",
    "print(f\"Pivot Table\\n{pivot1}\\n\")"
   ]
  },
  {
   "cell_type": "markdown",
   "id": "8ef400a8",
   "metadata": {},
   "source": [
    " **14. Write a program to find mean absolute deviation on a DataFrame**"
   ]
  },
  {
   "cell_type": "code",
   "execution_count": 14,
   "id": "23d0d283",
   "metadata": {},
   "outputs": [
    {
     "name": "stdout",
     "output_type": "stream",
     "text": [
      "Mean Absolute Deviation\n",
      "x    1.2\n",
      "y    1.2\n",
      "z    1.2\n",
      "dtype: float64\n",
      "\n"
     ]
    }
   ],
   "source": [
    "# Write a program to find mean absolute deviation on a DataFrame\n",
    "\n",
    "df2 = pd.DataFrame({\n",
    "    'x': [1, 2, 3, 4, 5],\n",
    "    'y': [6, 7, 8, 9, 10],\n",
    "    'z': [11, 12, 13, 14, 15]\n",
    "})\n",
    "\n",
    "# mad using abs(df - df.mean()).mean()\n",
    "print(f\"Mean Absolute Deviation\\n{abs(df2 - df2.mean()).mean()}\\n\")\n"
   ]
  },
  {
   "cell_type": "markdown",
   "id": "098bdbf7",
   "metadata": {},
   "source": [
    "**15. Two Series object, Population stores the details of four metro cities of India and another object AvgIncome stores the total average income\n",
    "reported in four years in these cities. Calculate income per capita for each\n",
    "of these metro cities.**"
   ]
  },
  {
   "cell_type": "code",
   "execution_count": 15,
   "id": "c547008b",
   "metadata": {},
   "outputs": [
    {
     "name": "stdout",
     "output_type": "stream",
     "text": [
      "Income Per Capita\n",
      "Delhi      0.008684\n",
      "Mumbai     0.010576\n",
      "Chennai    0.019678\n",
      "Kolkata    0.010017\n",
      "dtype: float64\n",
      "\n"
     ]
    }
   ],
   "source": [
    "\"\"\"**15. Two Series object, Population stores the details of four metro cities of India and another object AvgIncome stores the total average income\n",
    "reported in four years in these cities. Calculate income per capita for each\n",
    "of these metro cities.**\"\"\"\n",
    "\n",
    "Population = pd.Series({\"Delhi\": 29941000, \"Mumbai\": 23355000, \"Chennai\": 11180000, \"Kolkata\": 14974000})\n",
    "AvgIncome = pd.Series({\"Delhi\": 260000, \"Mumbai\": 247000, \"Chennai\": 220000, \"Kolkata\": 150000})\n",
    "\n",
    "IncomePerCapita = AvgIncome / Population\n",
    "print(f\"Income Per Capita\\n{IncomePerCapita}\\n\")"
   ]
  },
  {
   "cell_type": "markdown",
   "id": "0cebb338",
   "metadata": {},
   "source": [
    "**16. Create a DataFrame based on E-Commerce data and generate mean,mode, median** "
   ]
  },
  {
   "cell_type": "code",
   "execution_count": 16,
   "id": "0b278507",
   "metadata": {},
   "outputs": [
    {
     "name": "stdout",
     "output_type": "stream",
     "text": [
      "Mean\n",
      "order_id       22313.0\n",
      "customer_id     1003.0\n",
      "Price            300.0\n",
      "dtype: float64\n",
      "\n",
      "Mode\n",
      "   order_id  customer_id  Price\n",
      "0     22311         1001    100\n",
      "1     22312         1002    200\n",
      "2     22313         1003    300\n",
      "3     22314         1004    400\n",
      "4     22315         1005    500\n",
      "\n",
      "Median\n",
      "order_id       22313.0\n",
      "customer_id     1003.0\n",
      "Price            300.0\n",
      "dtype: float64\n",
      "\n"
     ]
    }
   ],
   "source": [
    "# Create a DataFrame based on E-Commerce data and generate mean,mode, median\n",
    "\n",
    "ecom_df = pd.DataFrame({\n",
    "    'order_id': [22311, 22312, 22313, 22314, 22315],\n",
    "    'customer_id': [1001, 1002, 1003, 1004, 1005],\n",
    "    'Price': [100, 200, 300, 400, 500],\n",
    "})\n",
    "\n",
    "print(f\"Mean\\n{ecom_df.mean()}\\n\")\n",
    "print(f\"Mode\\n{ecom_df.mode()}\\n\")\n",
    "print(f\"Median\\n{ecom_df.median()}\\n\")"
   ]
  },
  {
   "cell_type": "markdown",
   "id": "756be8c2",
   "metadata": {},
   "source": [
    "**17. Create a DataFrame based on employee data and generate quartile and variance**"
   ]
  },
  {
   "cell_type": "code",
   "execution_count": 17,
   "id": "1392688e",
   "metadata": {},
   "outputs": [
    {
     "name": "stdout",
     "output_type": "stream",
     "text": [
      "Quartile\n",
      "0.25    20000.0\n",
      "0.50    30000.0\n",
      "0.75    40000.0\n",
      "Name: employee_salary, dtype: float64\n",
      "\n",
      "Variance\n",
      "250000000.0\n",
      "\n"
     ]
    }
   ],
   "source": [
    "# Create a DataFrame based on employee data and generate quartile and variance\n",
    "\n",
    "employee_df = pd.DataFrame({\n",
    "    'employee_id': [1001, 1002, 1003, 1004, 1005],\n",
    "    'employee_name': [\"Arjun\", \"Bhuvan\", \"Chetan\", \"Dinesh\", \"Eshwar\"],\n",
    "    'employee_salary': [10000, 20000, 30000, 40000, 50000],\n",
    "})\n",
    "\n",
    "print(f\"Quartile\\n{employee_df['employee_salary'].quantile([0.25, 0.5, 0.75])}\\n\")\n",
    "print(f\"Variance\\n{employee_df['employee_salary'].var()}\\n\")"
   ]
  },
  {
   "cell_type": "markdown",
   "id": "39c4360a",
   "metadata": {},
   "source": [
    "**18. Program to implement Skewness on Random data**"
   ]
  },
  {
   "cell_type": "code",
   "execution_count": 18,
   "id": "d76b30d1",
   "metadata": {},
   "outputs": [
    {
     "name": "stdout",
     "output_type": "stream",
     "text": [
      "Skewness\n",
      "0.05643553410712272\n",
      "\n"
     ]
    }
   ],
   "source": [
    "# Program to implement Skewness on Random data\n",
    "\n",
    "random_data = pd.Series(np.random.normal(0, 1, 1000))\n",
    "print(f\"Skewness\\n{random_data.skew()}\\n\")"
   ]
  },
  {
   "cell_type": "markdown",
   "id": "92258106",
   "metadata": {},
   "source": [
    "**19. Create a DateFrame on any Data and compute statistical function ofKurtosis**"
   ]
  },
  {
   "cell_type": "code",
   "execution_count": 19,
   "id": "531e3177",
   "metadata": {},
   "outputs": [
    {
     "name": "stdout",
     "output_type": "stream",
     "text": [
      "Kurtosis\n",
      "x   -1.2\n",
      "y   -1.2\n",
      "z   -1.2\n",
      "dtype: float64\n",
      "\n"
     ]
    }
   ],
   "source": [
    "# Create a DateFrame on any Data and compute statistical function of Kurtosis\n",
    "\n",
    "df3 = pd.DataFrame({\n",
    "    'x': [1, 2, 3, 4, 5],\n",
    "    'y': [6, 7, 8, 9, 10],\n",
    "    'z': [11, 12, 13, 14, 15]\n",
    "})\n",
    "\n",
    "print(f\"Kurtosis\\n{df3.kurtosis()}\\n\")\n"
   ]
  },
  {
   "cell_type": "markdown",
   "id": "10512aa9",
   "metadata": {},
   "source": [
    "**20. Series objects Temp1, temp2, temp3, temp 4 stores the temperature of \n",
    "days of week 1, week 2, week 3, week 4. Write a script to:-  \n",
    "a.Print average temperature per week  \n",
    "b.Print average temperature of entire month**"
   ]
  },
  {
   "cell_type": "code",
   "execution_count": 20,
   "id": "e58be566",
   "metadata": {},
   "outputs": [
    {
     "name": "stdout",
     "output_type": "stream",
     "text": [
      "Average Temperature per week\n",
      "32.12857142857143\n",
      "32.4\n",
      "32.07142857142857\n",
      "32.2\n",
      "\n",
      "Average Temperature of entire month\n",
      "32.199999999999996\n",
      "\n"
     ]
    }
   ],
   "source": [
    "temp1 = pd.Series([30.0, 34.2, 31.7, 30.9, 32.5, 33.4, 32.2])\n",
    "temp2 = pd.Series([32.3, 33.4, 31.2, 32.4, 33.2, 32.4, 31.9])\n",
    "temp3 = pd.Series([31.2, 32.4, 33.2, 32.4, 31.9, 30.9, 32.5])\n",
    "temp4 = pd.Series([33.4, 31.2, 32.4, 33.2, 32.4, 31.9, 30.9])\n",
    "\n",
    "print(f\"Average Temperature per week\\n{temp1.mean()}\\n{temp2.mean()}\\n{temp3.mean()}\\n{temp4.mean()}\\n\")\n",
    "print(f\"Average Temperature of entire month\\n{pd.concat([temp1, temp2, temp3, temp4]).mean()}\\n\")"
   ]
  },
  {
   "cell_type": "markdown",
   "id": "3f487c58",
   "metadata": {},
   "source": [
    "**21. Write a Program to read a CSV file and create its DataFrame.**"
   ]
  },
  {
   "cell_type": "code",
   "execution_count": 21,
   "id": "a930ae4b",
   "metadata": {},
   "outputs": [
    {
     "name": "stdout",
     "output_type": "stream",
     "text": [
      "DataFrame\n",
      "   ID          Address           City             State Country         Name  \\\n",
      "0   1     3666 21st St  San Francisco          CA 94114     USA      Madeira   \n",
      "1   2   735 Dolores St  San Francisco          CA 94119     USA  Bready Shop   \n",
      "2   3      332 Hill St  San Francisco  California 94114     USA  Super River   \n",
      "3   4     3995 23rd St  San Francisco          CA 94114     USA   Ben's Shop   \n",
      "4   5  1056 Sanchez St  San Francisco        California     USA      Sanchez   \n",
      "5   6  551 Alvarado St  San Francisco          CA 94114     USA   Richvalley   \n",
      "\n",
      "   Employees  \n",
      "0          8  \n",
      "1         15  \n",
      "2         25  \n",
      "3         10  \n",
      "4         12  \n",
      "5         20  \n",
      "\n"
     ]
    }
   ],
   "source": [
    "# Write a Program to read a CSV file and create its DataFrame.\n",
    "\n",
    "df4 = pd.read_csv(\"supermarkets.csv\")\n",
    "print(f\"DataFrame\\n{df4}\\n\")"
   ]
  },
  {
   "cell_type": "markdown",
   "id": "94abbeda",
   "metadata": {},
   "source": [
    "**22. Consider the DataFrame QtrSales where each row contains the item category, item name and expenditure and group the rows by category, and print the average expenditure per category.**"
   ]
  },
  {
   "cell_type": "code",
   "execution_count": 22,
   "id": "f2a91945",
   "metadata": {},
   "outputs": [
    {
     "name": "stdout",
     "output_type": "stream",
     "text": [
      "Average Expenditure per Category\n",
      "Category\n",
      "Dairy         600.0\n",
      "Grocery       500.0\n",
      "Stationary    400.0\n",
      "Name: Expenditure, dtype: float64\n",
      "\n"
     ]
    }
   ],
   "source": [
    "# 22. Consider the DataFrame QtrSales where each row contains the item category, \n",
    "# item name and expenditure and group the rows by category, and print the average expenditure per category.\n",
    "\n",
    "QtrSales = pd.DataFrame({\n",
    "    'Category': [\"Stationary\", \"Grocery\", \"Dairy\", \"Stationary\", \"Grocery\", \"Dairy\", \"Stationary\", \"Grocery\", \"Dairy\"],\n",
    "    'Item': [\"Pen\", \"Bread\", \"Milk\", \"Pencil\", \"Butter\", \"Cheese\", \"Eraser\", \"Rice\", \"Curd\"],\n",
    "    'Expenditure': [100, 200, 300, 400, 500, 600, 700, 800, 900]\n",
    "})\n",
    "\n",
    "# group the rows by category and print average expenditure per category\n",
    " \n",
    "print(f\"Average Expenditure per Category\\n{QtrSales.groupby('Category')['Expenditure'].mean()}\\n\")"
   ]
  },
  {
   "cell_type": "markdown",
   "id": "3ef12d0c",
   "metadata": {},
   "source": [
    "**23. Create a DataFrame having age, name, weight of five students. Write a program to display only the weight of first and fourth rows.**"
   ]
  },
  {
   "cell_type": "code",
   "execution_count": 23,
   "id": "766d3bb0",
   "metadata": {},
   "outputs": [
    {
     "name": "stdout",
     "output_type": "stream",
     "text": [
      "Weight of first and fourth rows\n",
      "0    50\n",
      "3    80\n",
      "Name: weight, dtype: int64\n",
      "\n"
     ]
    }
   ],
   "source": [
    "#  Create a DataFrame having age, name, weight of five students. \n",
    "# Write a program to display only the weight of first and fourth rows.\n",
    "\n",
    "df5 = pd.DataFrame({\n",
    "    'age': [20, 21, 22, 23, 24],\n",
    "    'name': [\"Arjun\", \"Bhuvan\", \"Chetan\", \"Dinesh\", \"Eshwar\"],\n",
    "    'weight': [50, 60, 70, 80, 90]\n",
    "})\n",
    "\n",
    "print(f\"Weight of first and fourth rows\\n{df5.iloc[[0, 3]]['weight']}\\n\")\n"
   ]
  },
  {
   "cell_type": "markdown",
   "id": "8d64f287",
   "metadata": {},
   "source": [
    "**24. Write a program to create a DataFrame to store weight, age and name of three people. Print the DataFrame and its transpose.**"
   ]
  },
  {
   "cell_type": "code",
   "execution_count": 24,
   "id": "bfe3ef3b",
   "metadata": {},
   "outputs": [
    {
     "name": "stdout",
     "output_type": "stream",
     "text": [
      "DataFrame\n",
      "   age    name  weight\n",
      "0   20   Arjun      50\n",
      "1   21  Bhuvan      60\n",
      "2   22  Chetan      70\n",
      "\n",
      "Transpose\n",
      "            0       1       2\n",
      "age        20      21      22\n",
      "name    Arjun  Bhuvan  Chetan\n",
      "weight     50      60      70\n",
      "\n"
     ]
    }
   ],
   "source": [
    "# Write a program to create a DataFrame to store weight, age and name of three people. Print the DataFrame and its transpose.**\n",
    "\n",
    "df6 = pd.DataFrame({\n",
    "    'age': [20, 21, 22],\n",
    "    'name': [\"Arjun\", \"Bhuvan\", \"Chetan\"],\n",
    "    'weight': [50, 60, 70]\n",
    "})\n",
    "\n",
    "print(f\"DataFrame\\n{df6}\\n\")\n",
    "print(f\"Transpose\\n{df6.T}\\n\")\n"
   ]
  },
  {
   "cell_type": "markdown",
   "id": "ecbc64b0",
   "metadata": {},
   "source": [
    "**25. Create a data frame in Python to produce missing values. The data is\n",
    "printed and missing values are indicated by the value NaN. Handle the missing values by   \n",
    "a. Replacing NaN with 0  \n",
    "b. dropping the rows with NaN  \n",
    "c. replacing NaN with the mean/median/mode of the column  \n",
    "d. replacing NaN with the value of the previous row  \n",
    "e. replacing NaN with the value of the next row  \n",
    "f. replacing NaN using interpolation method**"
   ]
  },
  {
   "cell_type": "code",
   "execution_count": 25,
   "id": "7cd37935",
   "metadata": {},
   "outputs": [
    {
     "name": "stdout",
     "output_type": "stream",
     "text": [
      "        one       two     three\n",
      "a  1.289758  0.634503  0.393554\n",
      "c  1.037178  0.594070  0.817749\n",
      "e  0.103137  0.228517  0.211022\n",
      "f  0.685145  2.531021 -1.939448\n",
      "h  1.121193  1.287567 -0.117802\n",
      "Dataframe after replacing missing values with zeros:\n",
      "        one       two     three\n",
      "a  1.289758  0.634503  0.393554\n",
      "b       NaN       NaN       NaN\n",
      "c  1.037178  0.594070  0.817749\n",
      "d       NaN       NaN       NaN\n",
      "e  0.103137  0.228517  0.211022\n",
      "f  0.685145  2.531021 -1.939448\n",
      "g       NaN       NaN       NaN\n",
      "h  1.121193  1.287567 -0.117802\n",
      "\n",
      "        one       two     three\n",
      "a  1.289758  0.634503  0.393554\n",
      "b  0.000000  0.000000  0.000000\n",
      "c  1.037178  0.594070  0.817749\n",
      "d  0.000000  0.000000  0.000000\n",
      "e  0.103137  0.228517  0.211022\n",
      "f  0.685145  2.531021 -1.939448\n",
      "g  0.000000  0.000000  0.000000\n",
      "h  1.121193  1.287567 -0.117802\n",
      "Dataframe after dropping rows with missing values:\n",
      "        one       two     three\n",
      "a  1.289758  0.634503  0.393554\n",
      "b       NaN       NaN       NaN\n",
      "c  1.037178  0.594070  0.817749\n",
      "d       NaN       NaN       NaN\n",
      "e  0.103137  0.228517  0.211022\n",
      "f  0.685145  2.531021 -1.939448\n",
      "g       NaN       NaN       NaN\n",
      "h  1.121193  1.287567 -0.117802\n",
      "\n",
      "        one       two     three\n",
      "a  1.289758  0.634503  0.393554\n",
      "c  1.037178  0.594070  0.817749\n",
      "e  0.103137  0.228517  0.211022\n",
      "f  0.685145  2.531021 -1.939448\n",
      "h  1.121193  1.287567 -0.117802\n",
      "Dataframe after replacing missing values with Mean:\n",
      "        one       two     three\n",
      "a  1.289758  0.634503  0.393554\n",
      "b       NaN       NaN       NaN\n",
      "c  1.037178  0.594070  0.817749\n",
      "d       NaN       NaN       NaN\n",
      "e  0.103137  0.228517  0.211022\n",
      "f  0.685145  2.531021 -1.939448\n",
      "g       NaN       NaN       NaN\n",
      "h  1.121193  1.287567 -0.117802\n",
      "\n",
      "        one       two     three\n",
      "a  1.289758  0.634503  0.393554\n",
      "b  0.847282  1.055136 -0.126985\n",
      "c  1.037178  0.594070  0.817749\n",
      "d  0.847282  1.055136 -0.126985\n",
      "e  0.103137  0.228517  0.211022\n",
      "f  0.685145  2.531021 -1.939448\n",
      "g  0.847282  1.055136 -0.126985\n",
      "h  1.121193  1.287567 -0.117802\n",
      "Dataframe after replacing missing values with Median:\n",
      "        one       two     three\n",
      "a  1.289758  0.634503  0.393554\n",
      "b       NaN       NaN       NaN\n",
      "c  1.037178  0.594070  0.817749\n",
      "d       NaN       NaN       NaN\n",
      "e  0.103137  0.228517  0.211022\n",
      "f  0.685145  2.531021 -1.939448\n",
      "g       NaN       NaN       NaN\n",
      "h  1.121193  1.287567 -0.117802\n",
      "\n",
      "        one       two     three\n",
      "a  1.289758  0.634503  0.393554\n",
      "b  1.037178  0.634503  0.211022\n",
      "c  1.037178  0.594070  0.817749\n",
      "d  1.037178  0.634503  0.211022\n",
      "e  0.103137  0.228517  0.211022\n",
      "f  0.685145  2.531021 -1.939448\n",
      "g  1.037178  0.634503  0.211022\n",
      "h  1.121193  1.287567 -0.117802\n",
      "Dataframe after replacing missing values with Mode:\n",
      "        one       two     three\n",
      "a  1.289758  0.634503  0.393554\n",
      "b       NaN       NaN       NaN\n",
      "c  1.037178  0.594070  0.817749\n",
      "d       NaN       NaN       NaN\n",
      "e  0.103137  0.228517  0.211022\n",
      "f  0.685145  2.531021 -1.939448\n",
      "g       NaN       NaN       NaN\n",
      "h  1.121193  1.287567 -0.117802\n",
      "\n",
      "        one       two     three\n",
      "a  1.289758  0.634503  0.393554\n",
      "b       NaN       NaN       NaN\n",
      "c  1.037178  0.594070  0.817749\n",
      "d       NaN       NaN       NaN\n",
      "e  0.103137  0.228517  0.211022\n",
      "f  0.685145  2.531021 -1.939448\n",
      "g       NaN       NaN       NaN\n",
      "h  1.121193  1.287567 -0.117802\n",
      "Dataframe after filling NaN values with the value from the previous rows:\n",
      "        one       two     three\n",
      "a  1.289758  0.634503  0.393554\n",
      "b       NaN       NaN       NaN\n",
      "c  1.037178  0.594070  0.817749\n",
      "d       NaN       NaN       NaN\n",
      "e  0.103137  0.228517  0.211022\n",
      "f  0.685145  2.531021 -1.939448\n",
      "g       NaN       NaN       NaN\n",
      "h  1.121193  1.287567 -0.117802\n",
      "\n",
      "        one       two     three\n",
      "a  1.289758  0.634503  0.393554\n",
      "b  1.289758  0.634503  0.393554\n",
      "c  1.037178  0.594070  0.817749\n",
      "d  1.037178  0.594070  0.817749\n",
      "e  0.103137  0.228517  0.211022\n",
      "f  0.685145  2.531021 -1.939448\n",
      "g  0.685145  2.531021 -1.939448\n",
      "h  1.121193  1.287567 -0.117802\n",
      "Dataframe after filling NaN values with the value from the next rows:\n",
      "        one       two     three\n",
      "a  1.289758  0.634503  0.393554\n",
      "b       NaN       NaN       NaN\n",
      "c  1.037178  0.594070  0.817749\n",
      "d       NaN       NaN       NaN\n",
      "e  0.103137  0.228517  0.211022\n",
      "f  0.685145  2.531021 -1.939448\n",
      "g       NaN       NaN       NaN\n",
      "h  1.121193  1.287567 -0.117802\n",
      "\n",
      "        one       two     three\n",
      "a  1.289758  0.634503  0.393554\n",
      "b  1.037178  0.594070  0.817749\n",
      "c  1.037178  0.594070  0.817749\n",
      "d  0.103137  0.228517  0.211022\n",
      "e  0.103137  0.228517  0.211022\n",
      "f  0.685145  2.531021 -1.939448\n",
      "g  1.121193  1.287567 -0.117802\n",
      "h  1.121193  1.287567 -0.117802\n",
      "Dataframe after filling missing values using interpolation method: Linear:\n",
      "        one       two     three\n",
      "a  1.289758  0.634503  0.393554\n",
      "b       NaN       NaN       NaN\n",
      "c  1.037178  0.594070  0.817749\n",
      "d       NaN       NaN       NaN\n",
      "e  0.103137  0.228517  0.211022\n",
      "f  0.685145  2.531021 -1.939448\n",
      "g       NaN       NaN       NaN\n",
      "h  1.121193  1.287567 -0.117802\n",
      "\n",
      "        one       two     three\n",
      "a  1.289758  0.634503  0.393554\n",
      "b  1.163468  0.614286  0.605651\n",
      "c  1.037178  0.594070  0.817749\n",
      "d  0.570157  0.411294  0.514385\n",
      "e  0.103137  0.228517  0.211022\n",
      "f  0.685145  2.531021 -1.939448\n",
      "g  0.903169  1.909294 -1.028625\n",
      "h  1.121193  1.287567 -0.117802\n"
     ]
    }
   ],
   "source": [
    "import numpy as np\n",
    "import pandas as pd\n",
    "\n",
    "df = pd.DataFrame(np.random.randn(5, 3), \n",
    "index=['a', 'c', 'e', 'f', 'h'], \n",
    "columns=['one', 'two', 'three'])\n",
    "\n",
    "df0 = df.reindex(['a', 'b', 'c', 'd', 'e', 'f', 'g', 'h'])\n",
    "\n",
    "df1 = df0.copy()\n",
    "df2 = df0.copy()\n",
    "df3 = df0.copy()\n",
    "df4 = df0.copy()\n",
    "df5 = df0.copy()\n",
    "df6 = df0.copy()\n",
    "df7 = df0.copy()\n",
    "\n",
    "print(df)\n",
    "\n",
    "# Replacing missing values with zeros\n",
    "\n",
    "print(f\"Dataframe after replacing missing values with zeros:\\n{df0}\\n\")\n",
    "print(df0.fillna(0))\n",
    "\n",
    "# Dropping rows with missing values\n",
    "\n",
    "print(f\"Dataframe after dropping rows with missing values:\\n{df1}\\n\")\n",
    "print(df1.dropna())\n",
    "\n",
    "# Replacing missing values with Mean/Median/Mode\n",
    "\n",
    "print(f\"Dataframe after replacing missing values with Mean:\\n{df2}\\n\")\n",
    "print(df2.fillna(df2.mean()))\n",
    "\n",
    "print(f\"Dataframe after replacing missing values with Median:\\n{df3}\\n\")\n",
    "print(df3.fillna(df3.median()))\n",
    "\n",
    "print(f\"Dataframe after replacing missing values with Mode:\\n{df4}\\n\")\n",
    "print(df4.fillna(df4.mode()))\n",
    "\n",
    "# Filling NaN values with the value from the previous rows\n",
    "\n",
    "print(f\"Dataframe after filling NaN values with the value from the previous rows:\\n{df5}\\n\")\n",
    "print(df5.fillna(method='pad'))\n",
    "\n",
    "# Filling NaN values with the value from the next rows\n",
    "\n",
    "print(f\"Dataframe after filling NaN values with the value from the next rows:\\n{df6}\\n\")\n",
    "print(df6.fillna(method='bfill'))\n",
    "\n",
    "# Filling missing values using interpolation method: Linear\n",
    "\n",
    "print(f\"Dataframe after filling missing values using interpolation method: Linear:\\n{df7}\\n\")\n",
    "print(df7.interpolate(method='linear'))\n"
   ]
  },
  {
   "cell_type": "markdown",
   "id": "2e452529",
   "metadata": {},
   "source": [
    "**26. Write a python code for carrying out equal width binning for the price of  \n",
    "nine items that are stored in a data frame. For equi-width binning the  \n",
    "minimum and maximum price value are used to three equal width bins named  \n",
    "Low, Medium, and High. Plot a histogram for the three bins based on the  \n",
    "price range.**"
   ]
  },
  {
   "cell_type": "code",
   "execution_count": 26,
   "id": "d9672e9d",
   "metadata": {},
   "outputs": [
    {
     "name": "stdout",
     "output_type": "stream",
     "text": [
      "   Price\n",
      "0   3.04\n",
      "1  22.93\n",
      "2   3.74\n",
      "3   3.71\n",
      "4  14.25\n",
      "5   3.42\n",
      "6   0.44\n",
      "7   0.44\n",
      "8   0.44\n",
      "    Price\n",
      "0     Low\n",
      "1    High\n",
      "2     Low\n",
      "3     Low\n",
      "4  Medium\n",
      "5     Low\n",
      "6     Low\n",
      "7     Low\n",
      "8     Low\n"
     ]
    },
    {
     "data": {
      "text/plain": [
       "(array([7., 0., 0., 0., 0., 1., 0., 0., 0., 1.]),\n",
       " array([0. , 0.2, 0.4, 0.6, 0.8, 1. , 1.2, 1.4, 1.6, 1.8, 2. ]),\n",
       " <BarContainer object of 10 artists>)"
      ]
     },
     "execution_count": 26,
     "metadata": {},
     "output_type": "execute_result"
    },
    {
     "data": {
      "image/png": "[encoded data removed]",
      "text/plain": [
       "<Figure size 640x480 with 1 Axes>"
      ]
     },
     "metadata": {},
     "output_type": "display_data"
    }
   ],
   "source": [
    "prices = [3.04, 22.93, 3.74, 3.71, 14.25, 3.42, 0.44, 0.44, 0.44]\n",
    "\n",
    "df8 = pd.DataFrame(prices, columns=['Price'])\n",
    "\n",
    "print(df8)\n",
    "\n",
    "# find equi-width bins number from length of the column\n",
    "bin_count = int(np.ceil(np.sqrt(len(df8))))\n",
    "\n",
    "df8['Price'] = pd.cut(df8['Price'], bins=bin_count, labels=['Low', 'Medium', 'High'])\n",
    "\n",
    "print(df8)\n",
    "\n",
    "import matplotlib.pyplot as plt\n",
    "\n",
    "plt.title(\"Histogram of the Prices of Items\")\n",
    "plt.xlabel('Price')\n",
    "plt.ylabel('Frequency')\n",
    "\n",
    "plt.hist(df8['Price'])"
   ]
  },
  {
   "cell_type": "markdown",
   "id": "f31127db",
   "metadata": {},
   "source": [
    "**27. Write the python code for outlier detection using the standard deviation  \n",
    "  method. Here for the randomly generated dataset values, the mean and  \n",
    "  standard deviation is calculated and then the cut off value is found for  \n",
    "  identifying outliers by considering thrice the standard deviation value as  \n",
    "  the threshold value. The outlier can be pictorially represented in form of a  \n",
    "  histogram**"
   ]
  },
  {
   "cell_type": "code",
   "execution_count": 27,
   "id": "a1bc8a60",
   "metadata": {},
   "outputs": [
    {
     "data": {
      "image/png": "[encoded data removed]",
      "text/plain": [
       "<Figure size 640x480 with 1 Axes>"
      ]
     },
     "metadata": {},
     "output_type": "display_data"
    },
    {
     "name": "stdout",
     "output_type": "stream",
     "text": [
      "Outliers:\n",
      "[3.094481548077701, -3.295865525330679, -3.85245859618913]\n"
     ]
    }
   ],
   "source": [
    "np.random.seed(21)\n",
    "data = np.random.normal(loc=0, scale=1, size=1000)\n",
    "\n",
    "mean = np.mean(data)\n",
    "std = np.std(data)\n",
    "threshold = 3 * std\n",
    "\n",
    "outliers = []\n",
    "for value in data:\n",
    "    if abs(value - mean) > threshold:\n",
    "        outliers.append(value)\n",
    "\n",
    "plt.hist(data, bins='auto', alpha=0.7, rwidth=0.85)\n",
    "plt.xlabel('Value')\n",
    "plt.ylabel('Frequency')\n",
    "plt.title('Histogram of Data with Outliers')\n",
    "plt.axvline(x=np.mean(data), color='red', linestyle='dashed', linewidth=1, label='Mean')\n",
    "plt.axvline(x=np.mean(data) + 3 * np.std(data), color='orange', linestyle='dashed', linewidth=1, label='Threshold')\n",
    "plt.axvline(x=outliers[0], color='green', linestyle='dashed', linewidth=1, label='Outliers')\n",
    "plt.legend()\n",
    "plt.show()\n",
    "\n",
    "print(\"Outliers:\")\n",
    "print(outliers)\n"
   ]
  },
  {
   "cell_type": "markdown",
   "id": "4cfc9606",
   "metadata": {},
   "source": [
    "**28. Write the python code to pictorially represent outliers in a histogram. The  \n",
    "dataset consists of 94 numerical values containing 2 outliers (the value 10  \n",
    "and 12). The outliers are to be removed from the list and final list of  \n",
    "numerical values contain no outliers.**"
   ]
  },
  {
   "cell_type": "code",
   "execution_count": 28,
   "id": "f541ae8e",
   "metadata": {},
   "outputs": [
    {
     "data": {
      "image/png": "[encoded data removed]",
      "text/plain": [
       "<Figure size 640x480 with 1 Axes>"
      ]
     },
     "metadata": {},
     "output_type": "display_data"
    },
    {
     "name": "stdout",
     "output_type": "stream",
     "text": [
      "[4, 5, 8, 7, 9, 11, 6, 3, 5, 7, 14, 8, 9, 6, 5, 3, 2, 4, 6, 8, 14, 15, 7, 6, 5, 4, 3, 9, 11, 13, 14, 15, 6, 7, 8, 14, 16, 18, 6, 5, 4, 3, 2, 9, 8, 7, 6, 5, 14, 16, 18, 20, 21, 22, 23, 5, 4, 6, 8, 14, 16, 18, 20, 22, 24, 26, 28, 30, 32, 34, 36, 38, 40, 42, 44, 46, 48, 50, 52, 54, 56, 58, 60, 62, 64, 66, 68, 70, 72, 74, 76, 78, 80, 82, 84, 86, 88, 90, 92, 94]\n"
     ]
    }
   ],
   "source": [
    "import matplotlib.pyplot as plt\n",
    "\n",
    "dataset = [4, 5, 8, 7, 9, 11, 6, 3, 5, 7, 10, 14, 8, 9, 12, 6, 5, 3, 2, 4, 6, 8, 12, 14, 15, 7, 6, 5, 4, 3, 9, 11, 13, 14, 15, 6, 7, 8, 10, 12, 14, 16, 18, 6, 5, 4, 3, 2, 9, 8, 7, 6, 5, 10, 12, 14, 16, 18, 20, 21, 22, 23, 5, 4, 6, 8, 10, 12, 14, 16, 18, 20, 22, 24, 26, 28, 30, 32, 34, 36, 38, 40, 42, 44, 46, 48, 50, 52, 54, 56, 58, 60, 62, 64, 66, 68, 70, 72, 74, 76, 78, 80, 82, 84, 86, 88, 90, 92, 94]\n",
    "\n",
    "plt.hist(dataset, bins=10)\n",
    "plt.xlabel('Values')\n",
    "plt.ylabel('Frequency')\n",
    "plt.title('Histogram of Dataset with Outliers')\n",
    "plt.axvline(x=12, color='red', linestyle='dashed', linewidth=2, label='Outliers')\n",
    "plt.axvline(x=10, color='red', linestyle='dashed', linewidth=2, label='Outliers')\n",
    "plt.legend()\n",
    "plt.show()\n",
    "\n",
    "dataset_without_outliers = [value for value in dataset if value != 10 and value != 12]\n",
    "\n",
    "print(dataset_without_outliers)"
   ]
  },
  {
   "cell_type": "markdown",
   "id": "cd98bb28",
   "metadata": {},
   "source": [
    "**29. Write a python code for outlier detection and removal for a given set of  \n",
    "data points using an interquartile method. Equi-width bins are created for  \n",
    "displaying the data values using a histogram. Q1 and Q3 are calculated using  \n",
    "percentile() function used in python, which help in calculating  \n",
    "interquartile range by finding differences between Q1 and Q3. Next the lower  \n",
    "bound(LB) and upper bound (UB) values are found using the formula �� = Q1 −  \n",
    "(1.5 ∗ IQR) = Q3 + (1.5 ∗ IQR). This helps in forming the final dataset  \n",
    "contains no outliers by considering data values which are only within the LB  \n",
    "and UB**"
   ]
  },
  {
   "cell_type": "code",
   "execution_count": 29,
   "id": "741fe980",
   "metadata": {},
   "outputs": [
    {
     "data": {
      "image/png": "[encoded data removed]",
      "text/plain": [
       "<Figure size 640x480 with 1 Axes>"
      ]
     },
     "metadata": {},
     "output_type": "display_data"
    },
    {
     "data": {
      "image/png": "[encoded data removed]",
      "text/plain": [
       "<Figure size 640x480 with 1 Axes>"
      ]
     },
     "metadata": {},
     "output_type": "display_data"
    }
   ],
   "source": [
    "import numpy as np\n",
    "import matplotlib.pyplot as plt\n",
    "\n",
    "data_points = [-210, -4, 10, 12, 14, 16, 18, 20, 22, 24, 26, 28, 30, 88, 92, 94, 96, 98, 100, 102, 104, 106, 108, 110, 240, 300]\n",
    "\n",
    "Q1 = np.percentile(data_points, 25)\n",
    "Q3 = np.percentile(data_points, 75)\n",
    "\n",
    "IQR = Q3 - Q1\n",
    "\n",
    "LB = Q1 - (1.5 * IQR)\n",
    "UB = Q3 + (1.5 * IQR)\n",
    "\n",
    "\n",
    "plt.hist(data_points, bins='auto')\n",
    "plt.xlabel('Values')\n",
    "plt.ylabel('Frequency')\n",
    "plt.title('Histogram of Dataset (With Outliers)')\n",
    "plt.show()\n",
    "\n",
    "final_dataset = [value for value in data_points if (LB <= value) and (value <= UB)]\n",
    "\n",
    "plt.hist(final_dataset, bins='auto')\n",
    "plt.xlabel('Values')\n",
    "plt.ylabel('Frequency')\n",
    "plt.title('Histogram of Dataset (Without Outliers)')\n",
    "plt.show()"
   ]
  },
  {
   "cell_type": "markdown",
   "id": "a1d839db",
   "metadata": {},
   "source": [
    "**30. Write python code to demonstrates how to perform correlation analysis on a\n",
    "dataset to identify redundant data.**\n",
    "\n",
    "- Load the dataset using Pandas read_csv function.\n",
    "- calculate the correlation matrix using the corr method, iterate over the\n",
    "correlation matrix and compare each correlation value with the threshold\n",
    "(correlation_threshold). If the absolute correlation value exceeds the\n",
    "threshold, we add the corresponding feature names to the set of highly\n",
    "correlated features.\n",
    "\n",
    "- Finally, print the highly correlated features to identify the redundant data.\n",
    "You can adjust the correlation threshold according to your requirements.\n",
    "\n",
    "- Preprocess data appropriately (e.g., handle missing values, scale\n",
    "numerical features) before performing correlation analysis for accurate\n",
    "results."
   ]
  },
  {
   "cell_type": "code",
   "execution_count": 30,
   "metadata": {},
   "outputs": [
    {
     "name": "stdout",
     "output_type": "stream",
     "text": [
      "Highly Correlated Features: {'5.6', '9.0', '7.8', '3.4'}\n"
     ]
    }
   ],
   "source": [
    "df5 = pd.read_csv(\"sample_dataset.csv\")\n",
    "\n",
    "corr_matrix = df5.corr().abs()\n",
    "\n",
    "\n",
    "correlation_threshold = 0.9\n",
    "\n",
    "highly_correlated_features = set()\n",
    "\n",
    "# Iterate over the correlation matrix\n",
    "for i in range(len(corr_matrix.columns)):\n",
    "    for j in range(i):\n",
    "        # Check if the absolute correlation value exceeds the threshold\n",
    "        if abs(corr_matrix.iloc[i, j]) > correlation_threshold:\n",
    "            colname = corr_matrix.columns[i]\n",
    "            highly_correlated_features.add(colname)\n",
    "\n",
    "print(f\"Highly Correlated Features: {highly_correlated_features}\")"
   ]
  },
  {
   "cell_type": "markdown",
   "metadata": {},
   "source": [
    "**31. Write a python code for data transformations for four transformation\n",
    "techniques rescaling data, normalizing data, binarizing data and\n",
    "standardizing data.**\n",
    "\n",
    "- Initially a data frame is created having three columns as C1, C2 and C3\n",
    "and four rows or records of numeric values. The original dataset is\n",
    "printed and then various data transformations are applied one by one to\n",
    "view the transformed dataset values.\n",
    "\n",
    "- MinMaxScaler() function is used in case of rescaling data to scale and\n",
    "translate each feature to a given range.\n",
    "\n",
    "- Normalization of data is performed using normalize() preprocessing\n",
    "function that uses the L1 normalization technique.\n",
    "\n",
    "- Binarizer() is used for data transformation for the discretization of\n",
    "continuous feature value. The threshold value considered in the program\n",
    "for binarizing is 5, thus all data above 5 are marked 1 whereas all data\n",
    "qual or below 5 are marked as 0.\n",
    "\n",
    "- The scale() function is used for standardizing data along an axis."
   ]
  },
  {
   "cell_type": "code",
   "execution_count": 31,
   "metadata": {},
   "outputs": [
    {
     "name": "stdout",
     "output_type": "stream",
     "text": [
      "Original Dataset:\n",
      "   C1  C2  C3\n",
      "0   3  10   4\n",
      "1   7   2   9\n",
      "2   2   8   1\n",
      "3   5   6   7\n",
      "\n",
      "Rescaled Dataset:\n",
      "    C1    C2     C3\n",
      "0  0.2  1.00  0.375\n",
      "1  1.0  0.00  1.000\n",
      "2  0.0  0.75  0.000\n",
      "3  0.6  0.50  0.750\n",
      "\n",
      "Normalized Dataset:\n",
      "         C1        C2        C3\n",
      "0  0.176471  0.588235  0.235294\n",
      "1  0.388889  0.111111  0.500000\n",
      "2  0.181818  0.727273  0.090909\n",
      "3  0.277778  0.333333  0.388889\n",
      "\n",
      "Binarized Dataset:\n",
      "   C1  C2  C3\n",
      "0   0   1   0\n",
      "1   1   0   1\n",
      "2   0   1   0\n",
      "3   0   1   1\n",
      "\n",
      "Standardized Dataset:\n",
      "         C1        C2        C3\n",
      "0 -0.650945  1.183216 -0.412393\n",
      "1  1.432078 -1.521278  1.237179\n",
      "2 -1.171700  0.507093 -1.402136\n",
      "3  0.390567 -0.169031  0.577350\n"
     ]
    },
    {
     "name": "stderr",
     "output_type": "stream",
     "text": [
      "/home/karthik/.local/lib/python3.10/site-packages/sklearn/base.py:432: UserWarning: X has feature names, but Binarizer was fitted without feature names\n",
      "  warnings.warn(\n"
     ]
    }
   ],
   "source": [
    "from sklearn.preprocessing import MinMaxScaler, normalize, Binarizer, scale\n",
    "\n",
    "data = pd.DataFrame({\n",
    "    'C1': [3, 7, 2, 5],\n",
    "    'C2': [10, 2, 8, 6],\n",
    "    'C3': [4, 9, 1, 7]\n",
    "})\n",
    "\n",
    "print(\"Original Dataset:\")\n",
    "print(data)\n",
    "\n",
    "rescaler = MinMaxScaler(feature_range=(0, 1))\n",
    "rescaled_data = rescaler.fit_transform(data)\n",
    "rescaled_df = pd.DataFrame(rescaled_data, columns=data.columns)\n",
    "\n",
    "print(\"\\nRescaled Dataset:\")\n",
    "print(rescaled_df)\n",
    "\n",
    "normalized_data = normalize(data, norm='l1')\n",
    "normalized_df = pd.DataFrame(normalized_data, columns=data.columns)\n",
    "\n",
    "print(\"\\nNormalized Dataset:\")\n",
    "print(normalized_df)\n",
    "\n",
    "binarizer = Binarizer(threshold=5)\n",
    "binarized_data = binarizer.transform(data)\n",
    "binarized_df = pd.DataFrame(binarized_data, columns=data.columns)\n",
    "\n",
    "print(\"\\nBinarized Dataset:\")\n",
    "print(binarized_df)\n",
    "\n",
    "standardized_data = scale(data)\n",
    "standardized_df = pd.DataFrame(standardized_data, columns=data.columns)\n",
    "\n",
    "print(\"\\nStandardized Dataset:\")\n",
    "print(standardized_df)"
   ]
  },
  {
   "cell_type": "markdown",
   "metadata": {},
   "source": [
    "**32 Write the python code for data transformation using label encoding and\n",
    "one-hot encoding technique.\n",
    "For two techniques, two different datasets have been used and accordingly for\n",
    "each categorial attribute, the values are encoded with numerical values.**"
   ]
  },
  {
   "cell_type": "code",
   "execution_count": 32,
   "metadata": {},
   "outputs": [
    {
     "name": "stdout",
     "output_type": "stream",
     "text": [
      "Dataset 1:\n",
      "    Color    Size     Shape\n",
      "0     Red   Small    Circle\n",
      "1    Blue   Large    Square\n",
      "2   Green  Medium  Triangle\n",
      "3     Red  Medium    Circle\n",
      "4  Yellow   Small    Square\n",
      "\n",
      "Label Encoded Dataset 1:\n",
      "   Color  Size  Shape\n",
      "0      2     2      0\n",
      "1      0     0      1\n",
      "2      1     1      2\n",
      "3      2     1      0\n",
      "4      3     2      1\n",
      "\n",
      "One-Hot Encoded Dataset 1:\n",
      "   Color_Green  Color_Red  Color_Yellow  Size_Medium  Size_Small  \\\n",
      "0          0.0        1.0           0.0          0.0         1.0   \n",
      "1          0.0        0.0           0.0          0.0         0.0   \n",
      "2          1.0        0.0           0.0          1.0         0.0   \n",
      "3          0.0        1.0           0.0          1.0         0.0   \n",
      "4          0.0        0.0           1.0          0.0         1.0   \n",
      "\n",
      "   Shape_Square  Shape_Triangle  \n",
      "0           0.0             0.0  \n",
      "1           1.0             0.0  \n",
      "2           0.0             1.0  \n",
      "3           0.0             0.0  \n",
      "4           1.0             0.0  \n",
      "\n",
      "Dataset 2:\n",
      "       City Temperature Rain\n",
      "0  New York         Hot  Yes\n",
      "1    London        Cold   No\n",
      "2     Paris        Warm   No\n",
      "3    London        Warm  Yes\n",
      "4     Paris         Hot  Yes\n",
      "\n",
      "Label Encoded Dataset 2:\n",
      "   City  Temperature  Rain\n",
      "0     1            1     1\n",
      "1     0            0     0\n",
      "2     2            2     0\n",
      "3     0            2     1\n",
      "4     2            1     1\n",
      "\n",
      "One-Hot Encoded Dataset 2:\n",
      "   City_New York  City_Paris  Temperature_Hot  Temperature_Warm  Rain_Yes\n",
      "0            1.0         0.0              1.0               0.0       1.0\n",
      "1            0.0         0.0              0.0               0.0       0.0\n",
      "2            0.0         1.0              0.0               1.0       0.0\n",
      "3            0.0         0.0              0.0               1.0       1.0\n",
      "4            0.0         1.0              1.0               0.0       1.0\n"
     ]
    },
    {
     "name": "stderr",
     "output_type": "stream",
     "text": [
      "/home/karthik/.local/lib/python3.10/site-packages/sklearn/preprocessing/_encoders.py:868: FutureWarning: `sparse` was renamed to `sparse_output` in version 1.2 and will be removed in 1.4. `sparse_output` is ignored unless you leave `sparse` to its default value.\n",
      "  warnings.warn(\n",
      "/home/karthik/.local/lib/python3.10/site-packages/sklearn/preprocessing/_encoders.py:868: FutureWarning: `sparse` was renamed to `sparse_output` in version 1.2 and will be removed in 1.4. `sparse_output` is ignored unless you leave `sparse` to its default value.\n",
      "  warnings.warn(\n"
     ]
    }
   ],
   "source": [
    "import pandas as pd\n",
    "from sklearn.preprocessing import LabelEncoder, OneHotEncoder\n",
    "\n",
    "data1 = pd.DataFrame({\n",
    "    'Color': ['Red', 'Blue', 'Green', 'Red', 'Yellow'],\n",
    "    'Size': ['Small', 'Large', 'Medium', 'Medium', 'Small'],\n",
    "    'Shape': ['Circle', 'Square', 'Triangle', 'Circle', 'Square']\n",
    "})\n",
    "\n",
    "print(\"Dataset 1:\")\n",
    "print(data1)\n",
    "\n",
    "label_encoder = LabelEncoder()\n",
    "data1_label_encoded = data1.copy()\n",
    "for column in data1_label_encoded.columns:\n",
    "    data1_label_encoded[column] = label_encoder.fit_transform(data1_label_encoded[column])\n",
    "\n",
    "print(\"\\nLabel Encoded Dataset 1:\")\n",
    "print(data1_label_encoded)\n",
    "\n",
    "one_hot_encoder = OneHotEncoder(sparse=False, drop='first')\n",
    "data1_one_hot_encoded = pd.DataFrame(one_hot_encoder.fit_transform(data1))\n",
    "data1_one_hot_encoded.columns = one_hot_encoder.get_feature_names_out(data1.columns)\n",
    "\n",
    "print(\"\\nOne-Hot Encoded Dataset 1:\")\n",
    "print(data1_one_hot_encoded)\n",
    "\n",
    "data2 = pd.DataFrame({\n",
    "    'City': ['New York', 'London', 'Paris', 'London', 'Paris'],\n",
    "    'Temperature': ['Hot', 'Cold', 'Warm', 'Warm', 'Hot'],\n",
    "    'Rain': ['Yes', 'No', 'No', 'Yes', 'Yes']\n",
    "})\n",
    "\n",
    "print(\"\\nDataset 2:\")\n",
    "print(data2)\n",
    "\n",
    "data2_label_encoded = data2.copy()\n",
    "for column in data2_label_encoded.columns:\n",
    "    data2_label_encoded[column] = label_encoder.fit_transform(data2_label_encoded[column])\n",
    "\n",
    "print(\"\\nLabel Encoded Dataset 2:\")\n",
    "print(data2_label_encoded)\n",
    "\n",
    "data2_one_hot_encoded = pd.DataFrame(one_hot_encoder.fit_transform(data2))\n",
    "data2_one_hot_encoded.columns = one_hot_encoder.get_feature_names_out(data2.columns)\n",
    "\n",
    "print(\"\\nOne-Hot Encoded Dataset 2:\")\n",
    "print(data2_one_hot_encoded)\n"
   ]
  },
  {
   "cell_type": "markdown",
   "metadata": {},
   "source": [
    "**33. Write the python code used to select features using univariate feature\n",
    "selection method. Consider dataset Pima Indians Diabetes. The dataset has\n",
    "eight features and a class label. The program selects four best features from the\n",
    "diabetes dataset based on the score calculated from each feature**"
   ]
  },
  {
   "cell_type": "code",
   "execution_count": 33,
   "metadata": {},
   "outputs": [
    {
     "name": "stdout",
     "output_type": "stream",
     "text": [
      "Selected Features:\n",
      "Pregnancies\n",
      "Glucose\n",
      "BMI\n",
      "Age\n"
     ]
    }
   ],
   "source": [
    "from sklearn.feature_selection import SelectKBest, f_classif\n",
    "\n",
    "data = pd.read_csv(\"diabetes.csv\")\n",
    "\n",
    "X = data.drop(\"Outcome\", axis=1)\n",
    "y = data[\"Outcome\"]\n",
    "\n",
    "k = 4\n",
    "selector = SelectKBest(score_func=f_classif, k=k)\n",
    "X_new = selector.fit_transform(X, y)\n",
    "\n",
    "selected_feature_indices = selector.get_support(indices=True)\n",
    "\n",
    "selected_feature_names = X.columns[selected_feature_indices]\n",
    "\n",
    "print(\"Selected Features:\")\n",
    "for feature in selected_feature_names:\n",
    "    print(feature)\n"
   ]
  },
  {
   "cell_type": "markdown",
   "metadata": {},
   "source": [
    "**34. Write python code of step forward selection for an attribute or feature\n",
    "selection using the step forward selection method.\n",
    "#python code for step forward selection for attribute selection**\n",
    "\n",
    "- load the Wine Quality dataset using the load_wine function from scikit-\n",
    "5learn and create separate X (features) and y (target variable) data\n",
    "frames.\n",
    "\n",
    "- Then create a linear regression model using LinearRegression from\n",
    "scikit-learn. You can replace this with a different model if needed.\n",
    "\n",
    "- Next, initialize the SequentialFeatureSelector class from scikit-learn,\n",
    "specifying the estimator (our linear regression model) and the direction\n",
    "as 'forward'. This means that the feature selection process will start\n",
    "with an empty set of features and iteratively add the best feature at each\n",
    "step.\n",
    "\n",
    "- Now fit the selector on the dataset using the fit_transform method,\n",
    "which performs the step forward feature selection and returns the\n",
    "transformed data with the selected features.\n",
    "\n",
    "- Finally, we obtain the indices of the selected features using the\n",
    "get_support method and use these indices to get the names of the\n",
    "selected features from the column names of the original dataset. Then\n",
    "print the selected feature names."
   ]
  },
  {
   "cell_type": "code",
   "execution_count": 34,
   "metadata": {},
   "outputs": [
    {
     "name": "stderr",
     "output_type": "stream",
     "text": [
      "/home/karthik/.local/lib/python3.10/site-packages/sklearn/feature_selection/_sequential.py:211: FutureWarning: Leaving `n_features_to_select` to None is deprecated in 1.0 and will become 'auto' in 1.3. To keep the same behaviour as with None (i.e. select half of the features) and avoid this warning, you should manually set `n_features_to_select='auto'` and set tol=None when creating an instance.\n",
      "  warnings.warn(\n"
     ]
    },
    {
     "name": "stdout",
     "output_type": "stream",
     "text": [
      "Selected features:\n",
      "volatile acidity\n",
      "free sulfur dioxide\n",
      "total sulfur dioxide\n",
      "pH\n",
      "alcohol\n"
     ]
    }
   ],
   "source": [
    "from sklearn.datasets import load_wine\n",
    "from sklearn.linear_model import LinearRegression\n",
    "from sklearn.feature_selection import SequentialFeatureSelector\n",
    "\n",
    "wine_data = pd.read_csv('winequality-red.csv')\n",
    "\n",
    "X = wine_data.drop('quality', axis=1)\n",
    "y = wine_data['quality']\n",
    "\n",
    "model = LinearRegression()\n",
    "\n",
    "selector = SequentialFeatureSelector(estimator=model, direction='forward')\n",
    "\n",
    "selected_features = selector.fit_transform(X, y)\n",
    "\n",
    "selected_indices = selector.get_support(indices=True)\n",
    "\n",
    "selected_feature_names = X.columns[selected_indices]\n",
    "\n",
    "print(\"Selected features:\")\n",
    "for feature_name in selected_feature_names:\n",
    "    print(feature_name)"
   ]
  },
  {
   "cell_type": "markdown",
   "metadata": {},
   "source": [
    "**35. Write python code for Principal Component analysis (PCA) for feature\n",
    "extraction. Consider Breast cancer dataset and after applying PCA only two\n",
    "columns are extracted and displayed in the output. The original dataset consists\n",
    "of 569 records and 30 features. The new dataset formed after feature extraction\n",
    "consists of 569 records and 2 features.**\n",
    "\n",
    "- load the Breast Cancer dataset using the load_breast_cancer function\n",
    "from scikit-learn and create separate X (features) and y (target variable)\n",
    "data frames.\n",
    "\n",
    "- then initialize the PCA class from scikit-learn, specifying the number\n",
    "of components we want to retain (in this example, n_components=2).\n",
    "\n",
    "- fit the PCA model on the dataset using the fit_transform method, which\n",
    "performs the dimensionality reduction and returns the transformed data\n",
    "with the specified number of components.\n",
    "\n",
    "- Next, create a new DataFrame (pca_df) to store the PCA results. We\n",
    "assign the transformed data to the columns 'PC1' and 'PC2' (or any\n",
    "other appropriate names). We also include the target variable in the\n",
    "DataFrame for visualization purposes.\n",
    "\n",
    "- print the explained variance ratio using the explained_variance_ratio_\n",
    "attribute of the PCA object. This shows the amount of variance\n",
    "explained by each principal component.\n",
    "\n",
    "- Finally, print the new DataFrame with the PCA results to inspect the\n",
    "transformed data."
   ]
  },
  {
   "cell_type": "code",
   "execution_count": 35,
   "metadata": {},
   "outputs": [
    {
     "name": "stdout",
     "output_type": "stream",
     "text": [
      "Explained Variance Ratio:\n",
      "[0.98204467 0.01617649]\n",
      "Transformed Data:\n",
      "             PC1         PC2 diagnosis\n",
      "0    1160.142574 -293.917544         M\n",
      "1    1269.122443   15.630182         M\n",
      "2     995.793889   39.156743         M\n",
      "3    -407.180803  -67.380320         M\n",
      "4     930.341180  189.340742         M\n",
      "..           ...         ...       ...\n",
      "564  1414.126684  110.222492         M\n",
      "565  1045.018854   77.057589         M\n",
      "566   314.501756   47.553525         M\n",
      "567  1124.858115   34.129225         M\n",
      "568  -771.527622  -88.643106         B\n",
      "\n",
      "[569 rows x 3 columns]\n"
     ]
    }
   ],
   "source": [
    "from sklearn.datasets import load_breast_cancer\n",
    "from sklearn.decomposition import PCA\n",
    "from sklearn.impute import SimpleImputer\n",
    "\n",
    "breast_cancer_data = pd.read_csv('breast_cancer.csv')\n",
    "\n",
    "X = breast_cancer_data.drop(['id', 'diagnosis'], axis=1)\n",
    "y = breast_cancer_data['diagnosis']\n",
    "\n",
    "# Handle missing values with SimpleImputer\n",
    "imputer = SimpleImputer(strategy='mean')\n",
    "X_imputed = imputer.fit_transform(X)\n",
    "\n",
    "pca = PCA(n_components=2)\n",
    "\n",
    "transformed_data = pca.fit_transform(X_imputed)\n",
    "\n",
    "pca_df = pd.DataFrame(data=transformed_data, columns=['PC1', 'PC2'])\n",
    "pca_df['diagnosis'] = y\n",
    "\n",
    "print(\"Explained Variance Ratio:\")\n",
    "print(pca.explained_variance_ratio_)\n",
    "\n",
    "print(\"Transformed Data:\")\n",
    "print(pca_df)\n"
   ]
  },
  {
   "cell_type": "markdown",
   "metadata": {},
   "source": [
    "**36. Write code to perform operations on a data cube in Python, you can use\n",
    "the pandas library for data manipulation and analysis. Create a sample data\n",
    "cube using a dictionary. The data cube contains columns for \"Year\", \"Quarter\",\n",
    "\"Sales\", and \"Expenses\". Create a DataFrame using pd.DataFrame and pass the\n",
    "data dictionary. Demonstrates three common operations (aggregation, slicing\n",
    "and dicing) on a data cube. For Aggregation: use the groupby function to group\n",
    "the data by \"Year\" and \"Quarter\" columns, and then apply the sum function to\n",
    "calculate the total sales and expenses for each group. For Slicing: use boolean\n",
    "indexing to filter the data for a specific year (2023) and quarter (1). For Dicing:\n",
    "use boolean indexing to filter the data based on a sales range (> 200) and an\n",
    "expenses range (< 120). Finally, print the original data cube, the aggregated\n",
    "data cube, the sliced data cube, and the diced data cube to observe the results\n",
    "of each operation.**"
   ]
  },
  {
   "cell_type": "code",
   "execution_count": 36,
   "metadata": {},
   "outputs": [
    {
     "name": "stdout",
     "output_type": "stream",
     "text": [
      "Original Data Cube:\n",
      "   Year  Quarter  Sales  Expenses\n",
      "0  2022        1    100        50\n",
      "1  2022        2    200        75\n",
      "2  2022        3    150       100\n",
      "3  2023        1    250       125\n",
      "4  2023        2    300       150\n",
      "5  2023        3    350       115\n",
      "\n",
      "Aggregated Data Cube:\n",
      "              Sales  Expenses\n",
      "Year Quarter                 \n",
      "2022 1          100        50\n",
      "     2          200        75\n",
      "     3          150       100\n",
      "2023 1          250       125\n",
      "     2          300       150\n",
      "     3          350       115\n",
      "\n",
      "Sliced Data Cube:\n",
      "   Year  Quarter  Sales  Expenses\n",
      "3  2023        1    250       125\n",
      "\n",
      "Diced Data Cube:\n",
      "   Year  Quarter  Sales  Expenses\n",
      "5  2023        3    350       115\n"
     ]
    }
   ],
   "source": [
    "import pandas as pd\n",
    "\n",
    "data_cube = {\n",
    "    'Year': [2022, 2022, 2022, 2023, 2023, 2023],\n",
    "    'Quarter': [1, 2, 3, 1, 2, 3],\n",
    "    'Sales': [100, 200, 150, 250, 300, 350],\n",
    "    'Expenses': [50, 75, 100, 125, 150, 115]\n",
    "}\n",
    "\n",
    "df = pd.DataFrame(data_cube)\n",
    "\n",
    "print(\"Original Data Cube:\")\n",
    "print(df)\n",
    "\n",
    "aggregated_cube = df.groupby(['Year', 'Quarter']).sum()\n",
    "\n",
    "print(\"\\nAggregated Data Cube:\")\n",
    "print(aggregated_cube)\n",
    "\n",
    "sliced_cube = df[(df['Year'] == 2023) & (df['Quarter'] == 1)]\n",
    "\n",
    "print(\"\\nSliced Data Cube:\")\n",
    "print(sliced_cube)\n",
    "\n",
    "diced_cube = df[(df['Sales'] > 200) & (df['Expenses'] < 120)]\n",
    "\n",
    "print(\"\\nDiced Data Cube:\")\n",
    "print(diced_cube)\n"
   ]
  },
  {
   "cell_type": "markdown",
   "metadata": {},
   "source": [
    "**37. Write Python code snippet that demonstrates how to perform data\n",
    "discretization using the Pandas library: create a sample dataset with two\n",
    "columns: \"Temperature\" and \"Humidity\". We then create a DataFrame\n",
    "8using pd.DataFrame and pass the data dictionary.\n",
    "The code demonstrates two types of data discretization:**\n",
    "\n",
    "1. Equal-width discretization: We use the pd.cut function to discretize\n",
    "the \"Temperature\" column into a specified number of bins (num_bins). The\n",
    "resulting discrete values are represented using numeric labels.\n",
    "\n",
    "2. Equal-frequency discretization: We use the pd.qcut function to\n",
    "discretize the \"Humidity\" column into a specified number of bins\n",
    "(num_bins). The resulting discrete values are also represented using\n",
    "numeric labels.\n",
    "\n",
    "Finally, we print the original dataset with the discretized columns to\n",
    "observe the results.\n",
    "Note that you can adjust the number of bins (num_bins) and apply different\n",
    "discretization techniques based on your specific requirements.\n",
    "Remember to preprocess your data appropriately (e.g., handle missing\n",
    "values, scale numerical features) before performing data discretization for\n",
    "accurate results."
   ]
  },
  {
   "cell_type": "code",
   "execution_count": 37,
   "metadata": {},
   "outputs": [
    {
     "name": "stdout",
     "output_type": "stream",
     "text": [
      "Original Dataset:\n",
      "   Temperature  Humidity  Temperature_discrete  Humidity_discrete\n",
      "0           25        60                     1                  0\n",
      "1           30        70                     2                  2\n",
      "2           22        55                     0                  0\n",
      "3           20        50                     0                  0\n",
      "4           35        75                     2                  2\n",
      "5           28        65                     1                  1\n",
      "6           32        80                     2                  2\n",
      "7           18        45                     0                  0\n",
      "8           26        62                     1                  1\n",
      "9           29        68                     1                  1\n"
     ]
    }
   ],
   "source": [
    "import pandas as pd\n",
    "\n",
    "data = {\n",
    "    'Temperature': [25, 30, 22, 20, 35, 28, 32, 18, 26, 29],\n",
    "    'Humidity': [60, 70, 55, 50, 75, 65, 80, 45, 62, 68]\n",
    "}\n",
    "\n",
    "df = pd.DataFrame(data)\n",
    "\n",
    "num_bins = 3\n",
    "\n",
    "df['Temperature_discrete'] = pd.cut(df['Temperature'], bins=num_bins, labels=False)\n",
    "\n",
    "df['Humidity_discrete'] = pd.qcut(df['Humidity'], q=num_bins, labels=False)\n",
    "\n",
    "print(\"Original Dataset:\")\n",
    "print(df)\n",
    "\n"
   ]
  }
 ],
 "metadata": {
  "kernelspec": {
   "display_name": "Python 3 (ipykernel)",
   "language": "python",
   "name": "python3"
  },
  "language_info": {
   "codemirror_mode": {
    "name": "ipython",
    "version": 3
   },
   "file_extension": ".py",
   "mimetype": "text/x-python",
   "name": "python",
   "nbconvert_exporter": "python",
   "pygments_lexer": "ipython3",
   "version": "3.10.6"
  }
 },
 "nbformat": 4,
 "nbformat_minor": 2
}
