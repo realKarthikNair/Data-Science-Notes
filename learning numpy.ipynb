{
 "cells": [
  {
   "cell_type": "markdown",
   "id": "543e172c",
   "metadata": {},
   "source": [
    "## <font color=blue>Numpy Notes</font>\n",
    "   \n",
    "   *by [Karthik Nair](https://realkarthiknair.github.io)*\n",
    "\n",
    "#### <font color=maroon><i>Notes compiled from multiple sources including the Official Numpy Documentation</i></font>"
   ]
  },
  {
   "cell_type": "markdown",
   "id": "3b716ca9",
   "metadata": {},
   "source": [
    "### <font color=green>Numpy - introduction</font>\n",
    "\n",
    "NumPy is the fundamental package for scientific computing in Python. It is a Python library that provides a multi-dimensional array object, various derived objects (such as masked [arrays](https://www.geeksforgeeks.org/introduction-to-arrays/) and [matrices](https://www.mathsisfun.com/algebra/matrix-introduction.html)), and an assortment of routines for\n",
    "fast operations on arrays, including mathematical, logical, shape manipulation, sorting, selecting, I/O, discrete Fourier\n",
    "transforms, basic linear algebra, basic statistical operations, random simulation and much more\n",
    "\n",
    "### <font color=green>Why is numpy faster than lists?</font>\n",
    "\n",
    "Numpy uses ndarray.\n",
    "An ndarray is a collection of homogeneous data-types that are stored in contiguous memory locations. \n",
    "On the other hand, a list in Python is a collection of heterogeneous data types stored in non-contiguous memory locations.\n",
    "The NumPy package breaks down a task into multiple fragments and then processes all the fragments parallelly.\n",
    "\n",
    "Ndarry classes are used to represent both Matrices and Vectors\n"
   ]
  },
  {
   "cell_type": "markdown",
   "id": "52821f0f",
   "metadata": {},
   "source": [
    "### <font color=green>How are NumPy Arrays different from Python lists?</font>\n",
    "\n",
    "NumPy arrays have a fixed size at creation, unlike Python lists (which can grow dynamically). Changing the size\n",
    "of an ndarray will create a new array and delete the original\n",
    "\n",
    "The elements in a NumPy array are all required to be of the same data type, and thus will be the same size in\n",
    "memory. The exception: one can have arrays of (Python, including NumPy) objects, thereby allowing for array \n",
    "of different sized elements"
   ]
  },
  {
   "cell_type": "markdown",
   "id": "a1a0038b",
   "metadata": {},
   "source": [
    "<font color=maroon>The NumPy package integrates C, C++, and Fortran codes in Python.<br>\n",
    "These programming languages have very little execution time compared to Python</font>"
   ]
  },
  {
   "cell_type": "code",
   "execution_count": 1,
   "id": "7e6ee6bf",
   "metadata": {},
   "outputs": [],
   "source": [
    "import numpy as np # it has become a convention to use np as the alias for numpy "
   ]
  },
  {
   "cell_type": "code",
   "execution_count": 2,
   "id": "05fbcf89",
   "metadata": {},
   "outputs": [
    {
     "name": "stdout",
     "output_type": "stream",
     "text": [
      "<class 'numpy.ndarray'>\n"
     ]
    }
   ],
   "source": [
    "array0=np.array([1,2,3,4]) \n",
    "\n",
    "print(type(array0)) # returns <class 'numpy.ndarray'>"
   ]
  },
  {
   "cell_type": "markdown",
   "id": "8e29bc13",
   "metadata": {},
   "source": [
    "### <font color=blue>Dimensions of an array</font>\n",
    "\n",
    "Ndarrays can be of different dimensions or **Axes**\n",
    "e.g. 0D , 1D (known as Vector), 2D (known as Matrix), 3D, etc \n",
    "Arrays of dimensions 3 or higher are commonly known as **Tensors** \n",
    "\n",
    "<font color=maroon><b>Rank</b> of an Array is the number of dimensions in an array</font>"
   ]
  },
  {
   "cell_type": "markdown",
   "id": "bbf1568b",
   "metadata": {},
   "source": [
    "### <font color=blue>Some important attributes of an Ndarray</font><br>\n",
    "\n",
    "`ndarray.ndim` Lets you see the number of axes(dimensions) of a numpy array<br><br>\n",
    "`ndarray.shape` Returns a tuple of integers indicating the size of the array in each dimension  \n",
    "e.g. for a\n",
    "matrix with n rows and m columns, shape will be (n,m). (len(ndarray.shape)==ndarray.ndim)<br><br>\n",
    "`ndarray.size` Displays the total number of elements in an array. (This is equal to the product of elements of\n",
    "shape)<br><br>\n",
    "`ndarray.dtype` returns an object describing the type of elements in the array<br><br>\n",
    "`ndarray.itemsize` returns size (in bytes) of each element of the array (Equivalent to ndarray.dtype.itemsize)<br><br>\n",
    "`ndarray.data` returns the buffer containing the actual elements of the array\n"
   ]
  },
  {
   "cell_type": "markdown",
   "id": "154da3ef",
   "metadata": {},
   "source": [
    "### <font color=blue>Creating NumPy Arrays</font>"
   ]
  },
  {
   "cell_type": "markdown",
   "id": "9e636b0c",
   "metadata": {},
   "source": [
    "#### <font color=green>Using `array` function</font>\n",
    "You can create an array from a regular Python list or tuple using the array function"
   ]
  },
  {
   "cell_type": "code",
   "execution_count": 3,
   "id": "318fe870",
   "metadata": {},
   "outputs": [
    {
     "data": {
      "text/plain": [
       "array([1, 2, 3, 4])"
      ]
     },
     "execution_count": 3,
     "metadata": {},
     "output_type": "execute_result"
    }
   ],
   "source": [
    "np.array([1,2,3,4]) #from list\n",
    "\n",
    "np.array((1,2,3,4)) #from tuple"
   ]
  },
  {
   "cell_type": "markdown",
   "id": "048db9ef",
   "metadata": {},
   "source": [
    "#### <font color=green>Using *placeholder* functions</font>\n",
    "Placeholder functions are used when we need to create an array with its size known, but elements unknown (intially)\n",
    "For example, we might need to create an array to store data of 10 students where the elements would be filled later"
   ]
  },
  {
   "cell_type": "markdown",
   "id": "8014eef8",
   "metadata": {},
   "source": [
    "<font color=maroon>np.zeros</font> : creates an array full of zeros"
   ]
  },
  {
   "cell_type": "code",
   "execution_count": 4,
   "id": "5bf70f05",
   "metadata": {
    "scrolled": true
   },
   "outputs": [
    {
     "data": {
      "text/plain": [
       "array([[0., 0., 0., 0.],\n",
       "       [0., 0., 0., 0.]])"
      ]
     },
     "execution_count": 4,
     "metadata": {},
     "output_type": "execute_result"
    }
   ],
   "source": [
    "np.zeros((2,4))"
   ]
  },
  {
   "cell_type": "markdown",
   "id": "4f78db03",
   "metadata": {},
   "source": [
    "<font color=maroon>np.ones</font> : creates an array full of ones"
   ]
  },
  {
   "cell_type": "code",
   "execution_count": 5,
   "id": "8a0699d1",
   "metadata": {},
   "outputs": [
    {
     "data": {
      "text/plain": [
       "array([[1., 1., 1., 1.],\n",
       "       [1., 1., 1., 1.]])"
      ]
     },
     "execution_count": 5,
     "metadata": {},
     "output_type": "execute_result"
    }
   ],
   "source": [
    "np.ones((2,4))"
   ]
  },
  {
   "cell_type": "markdown",
   "id": "8b5725c5",
   "metadata": {},
   "source": [
    "<font color=maroon>np.empty</font> : creates an array whose initial content is random"
   ]
  },
  {
   "cell_type": "code",
   "execution_count": 6,
   "id": "aeeda053",
   "metadata": {},
   "outputs": [
    {
     "data": {
      "text/plain": [
       "array([[1.03425627e-316, 0.00000000e+000],\n",
       "       [4.94065646e-324,             nan]])"
      ]
     },
     "execution_count": 6,
     "metadata": {},
     "output_type": "execute_result"
    }
   ],
   "source": [
    "np.empty((2,2)) #values could be anything"
   ]
  },
  {
   "cell_type": "markdown",
   "id": "476b6b9a",
   "metadata": {},
   "source": [
    "#### <font color=green>Functions to create `sequence` of numbers</font>"
   ]
  },
  {
   "cell_type": "markdown",
   "id": "c4dc5472",
   "metadata": {},
   "source": [
    "<font color=maroon>np.arange</font> : create sequences of numbers in a format analogous to Python's built-in `range`"
   ]
  },
  {
   "cell_type": "code",
   "execution_count": 7,
   "id": "c7eeb20c",
   "metadata": {},
   "outputs": [
    {
     "data": {
      "text/plain": [
       "array([10, 15, 20, 25])"
      ]
     },
     "execution_count": 7,
     "metadata": {},
     "output_type": "execute_result"
    }
   ],
   "source": [
    "np.arange( 10, 30, 5 )"
   ]
  },
  {
   "cell_type": "code",
   "execution_count": 8,
   "id": "6de77053",
   "metadata": {},
   "outputs": [
    {
     "data": {
      "text/plain": [
       "array([0. , 0.3, 0.6, 0.9, 1.2, 1.5, 1.8])"
      ]
     },
     "execution_count": 8,
     "metadata": {},
     "output_type": "execute_result"
    }
   ],
   "source": [
    "np.arange( 0, 2, 0.3 ) # it also accepts float arguments"
   ]
  },
  {
   "cell_type": "markdown",
   "id": "3c7320fe",
   "metadata": {},
   "source": [
    "<font color=maroon>np.linspace</font> : receives as an argument the number of elements that we want, instead of the step values"
   ]
  },
  {
   "cell_type": "code",
   "execution_count": 9,
   "id": "8133da18",
   "metadata": {},
   "outputs": [
    {
     "data": {
      "text/plain": [
       "array([0.  , 0.25, 0.5 , 0.75, 1.  , 1.25, 1.5 , 1.75, 2.  ])"
      ]
     },
     "execution_count": 9,
     "metadata": {},
     "output_type": "execute_result"
    }
   ],
   "source": [
    "np.linspace( 0, 2, 9 )"
   ]
  },
  {
   "cell_type": "markdown",
   "id": "08586c62",
   "metadata": {},
   "source": [
    "### <font color=blue>Arrays of different dimensions</font>"
   ]
  },
  {
   "cell_type": "markdown",
   "id": "4fa2c779",
   "metadata": {},
   "source": [
    "#### <font color=green>0D Arrays</font>\n",
    "\n",
    "Zero dimensional arrays are **scalars**.\n",
    "They can't be accessed using indices but can be converted into scalars\n",
    "Zero dimensional arrays are NOT equivalent to length-1 1D arrays\n"
   ]
  },
  {
   "cell_type": "code",
   "execution_count": 10,
   "id": "0ec84f8f",
   "metadata": {},
   "outputs": [
    {
     "data": {
      "text/plain": [
       "array(27)"
      ]
     },
     "execution_count": 10,
     "metadata": {},
     "output_type": "execute_result"
    }
   ],
   "source": [
    "# Creating a zero dimensional array\n",
    "\n",
    "array1=np.array(27)\n",
    "\n",
    "array1"
   ]
  },
  {
   "cell_type": "code",
   "execution_count": 11,
   "id": "e59f4305",
   "metadata": {},
   "outputs": [
    {
     "data": {
      "text/plain": [
       "()"
      ]
     },
     "execution_count": 11,
     "metadata": {},
     "output_type": "execute_result"
    }
   ],
   "source": [
    "array1.shape # returns () , which indicates zero  dimension"
   ]
  },
  {
   "cell_type": "code",
   "execution_count": 12,
   "id": "9170a71a",
   "metadata": {},
   "outputs": [
    {
     "data": {
      "text/plain": [
       "0"
      ]
     },
     "execution_count": 12,
     "metadata": {},
     "output_type": "execute_result"
    }
   ],
   "source": [
    "array1.ndim # returns 0, which indicates 0 dimension"
   ]
  },
  {
   "cell_type": "code",
   "execution_count": 13,
   "id": "6671b251",
   "metadata": {},
   "outputs": [
    {
     "data": {
      "text/plain": [
       "27"
      ]
     },
     "execution_count": 13,
     "metadata": {},
     "output_type": "execute_result"
    }
   ],
   "source": [
    "# converting zero-dimensional arrays to scalars\n",
    "scalar_array=array1.item()\n",
    "scalar_array"
   ]
  },
  {
   "cell_type": "markdown",
   "id": "a75fc570",
   "metadata": {},
   "source": [
    "### <font color=brown>Note</font>\n",
    "<font color=purple>For a zero dimensional array:</font><br>\n",
    "<font color=maroon>\n",
    "- print(array1[0]) #results in an error<br><br>\n",
    "- Trying to access the value in a 0D array using index results in an error<br><br></font>\n",
    "reason : 0D ndarrays are considered scalars\n"
   ]
  },
  {
   "cell_type": "markdown",
   "id": "cf458b0a",
   "metadata": {},
   "source": [
    "#### <font color=green>1D Arrays</font>\n",
    "In a 1D array, a single argument is passed to access a specific value\n",
    "e.g in array [1,2,3,4], element '3' can be accessed with its index 2"
   ]
  },
  {
   "cell_type": "code",
   "execution_count": 14,
   "id": "6500101d",
   "metadata": {},
   "outputs": [
    {
     "data": {
      "text/plain": [
       "array([27])"
      ]
     },
     "execution_count": 14,
     "metadata": {},
     "output_type": "execute_result"
    }
   ],
   "source": [
    "# Creating a length-1 one dimensional array\n",
    "\n",
    "array2=np.array([27]) #unlike zero-dimensional arrays, in len1 1D arrays, we pass the array element in sq brackets\n",
    "\n",
    "array2\n"
   ]
  },
  {
   "cell_type": "code",
   "execution_count": 15,
   "id": "d9c4b9f8",
   "metadata": {},
   "outputs": [
    {
     "data": {
      "text/plain": [
       "array([1, 2, 3, 4])"
      ]
     },
     "execution_count": 15,
     "metadata": {},
     "output_type": "execute_result"
    }
   ],
   "source": [
    "# with length more than 1\n",
    "\n",
    "array3=np.array([1,2,3,4]) \n",
    "\n",
    "array3"
   ]
  },
  {
   "cell_type": "code",
   "execution_count": 16,
   "id": "91fda3f6",
   "metadata": {},
   "outputs": [
    {
     "data": {
      "text/plain": [
       "27"
      ]
     },
     "execution_count": 16,
     "metadata": {},
     "output_type": "execute_result"
    }
   ],
   "source": [
    "array2[0] # element can be accessed using index"
   ]
  },
  {
   "cell_type": "code",
   "execution_count": 17,
   "id": "780708ce",
   "metadata": {},
   "outputs": [
    {
     "data": {
      "text/plain": [
       "3"
      ]
     },
     "execution_count": 17,
     "metadata": {},
     "output_type": "execute_result"
    }
   ],
   "source": [
    "array3[2] # accessing the third element in array"
   ]
  },
  {
   "cell_type": "code",
   "execution_count": 18,
   "id": "7529a94f",
   "metadata": {},
   "outputs": [
    {
     "data": {
      "text/plain": [
       "(4,)"
      ]
     },
     "execution_count": 18,
     "metadata": {},
     "output_type": "execute_result"
    }
   ],
   "source": [
    "array3.shape # returns (4,) which indicates an array with 1 dimension and 4 elements "
   ]
  },
  {
   "cell_type": "code",
   "execution_count": 19,
   "id": "5c92a103",
   "metadata": {},
   "outputs": [
    {
     "data": {
      "text/plain": [
       "1"
      ]
     },
     "execution_count": 19,
     "metadata": {},
     "output_type": "execute_result"
    }
   ],
   "source": [
    "array3.ndim # returns 1, indicating 1 dimension"
   ]
  },
  {
   "cell_type": "markdown",
   "id": "b0a20144",
   "metadata": {},
   "source": [
    "#### <font color=green>2D Arrays</font>\n",
    "In 2D array, 2 arguments needs to be passed to access a single element"
   ]
  },
  {
   "cell_type": "code",
   "execution_count": 20,
   "id": "88b3b413",
   "metadata": {},
   "outputs": [
    {
     "data": {
      "text/plain": [
       "array([[ 1,  2,  3],\n",
       "       [43, 22, 11]])"
      ]
     },
     "execution_count": 20,
     "metadata": {},
     "output_type": "execute_result"
    }
   ],
   "source": [
    "array4=np.array([[1,2,3],[43,22,11]]) # Creating a 2D numpy array \n",
    "\n",
    "array4\n",
    "\n",
    "# for instance, np.array([[1,2,3],[3,4,22],[43,22,11]]) indicates a 2D array with 3 layers and 3 elements in each layer"
   ]
  },
  {
   "cell_type": "code",
   "execution_count": 21,
   "id": "efbfc3bf",
   "metadata": {},
   "outputs": [
    {
     "data": {
      "text/plain": [
       "22"
      ]
     },
     "execution_count": 21,
     "metadata": {},
     "output_type": "execute_result"
    }
   ],
   "source": [
    "array4[1][1] \n",
    "# Accessing the second element from the 2nd layer of the 2nd dimension"
   ]
  },
  {
   "cell_type": "code",
   "execution_count": 22,
   "id": "3b43d04a",
   "metadata": {},
   "outputs": [
    {
     "data": {
      "text/plain": [
       "(2, 3)"
      ]
     },
     "execution_count": 22,
     "metadata": {},
     "output_type": "execute_result"
    }
   ],
   "source": [
    "array4.shape # returns (2,3)"
   ]
  },
  {
   "cell_type": "code",
   "execution_count": 23,
   "id": "a14c653d",
   "metadata": {},
   "outputs": [
    {
     "data": {
      "text/plain": [
       "2"
      ]
     },
     "execution_count": 23,
     "metadata": {},
     "output_type": "execute_result"
    }
   ],
   "source": [
    "array4.ndim"
   ]
  },
  {
   "cell_type": "markdown",
   "id": "b8716def",
   "metadata": {},
   "source": [
    "#### <font color=green>3D Arrays</font>\n",
    "\n",
    "In 3D array, 3 argument needs to be passed to access a single element"
   ]
  },
  {
   "cell_type": "code",
   "execution_count": 24,
   "id": "2e0efb57",
   "metadata": {},
   "outputs": [
    {
     "data": {
      "text/plain": [
       "array([[[22,  3, 32],\n",
       "        [33,  1, 32]],\n",
       "\n",
       "       [[44, 34, 21],\n",
       "        [ 3, 29, 32]]])"
      ]
     },
     "execution_count": 24,
     "metadata": {},
     "output_type": "execute_result"
    }
   ],
   "source": [
    "array5=np.array([[[22,3,32],[33,1,32]],[[44,34,21],[3,29,32]]]) \n",
    "# creating a 3D array with 2 layers and 2 sub-layers within each layer and 3 elements in each sub-layer\n",
    "\n",
    "array5"
   ]
  },
  {
   "cell_type": "code",
   "execution_count": 25,
   "id": "9ab77ad3",
   "metadata": {},
   "outputs": [
    {
     "data": {
      "text/plain": [
       "29"
      ]
     },
     "execution_count": 25,
     "metadata": {},
     "output_type": "execute_result"
    }
   ],
   "source": [
    "array5[1][1][1] \n",
    "# accessing the 2nd element of the 2nd sub-layer of the second layer, ie 29"
   ]
  },
  {
   "cell_type": "code",
   "execution_count": 26,
   "id": "461cbda5",
   "metadata": {},
   "outputs": [
    {
     "data": {
      "text/plain": [
       "3"
      ]
     },
     "execution_count": 26,
     "metadata": {},
     "output_type": "execute_result"
    }
   ],
   "source": [
    "array5.ndim"
   ]
  },
  {
   "cell_type": "code",
   "execution_count": 27,
   "id": "516fabda",
   "metadata": {},
   "outputs": [
    {
     "data": {
      "text/plain": [
       "(2, 2, 3)"
      ]
     },
     "execution_count": 27,
     "metadata": {},
     "output_type": "execute_result"
    }
   ],
   "source": [
    "array5.shape"
   ]
  },
  {
   "cell_type": "code",
   "execution_count": 28,
   "id": "402cb3c5",
   "metadata": {},
   "outputs": [
    {
     "data": {
      "text/plain": [
       "array([[[22,  3, 32],\n",
       "        [33,  1, 32],\n",
       "        [33, 42, 38]],\n",
       "\n",
       "       [[44, 34, 21],\n",
       "        [ 3, 22, 32],\n",
       "        [99, 43, 88]]])"
      ]
     },
     "execution_count": 28,
     "metadata": {},
     "output_type": "execute_result"
    }
   ],
   "source": [
    "array6=np.array([[[22,3,32],[33,1,32],[33,42,38]],[[44,34,21],[3,22,32],[99,43,88]]])\n",
    "# creating a 3D array with 2 layers and 3 sub-layers within each layer and 3 elements in each layer\n",
    "\n",
    "array6"
   ]
  },
  {
   "cell_type": "code",
   "execution_count": 29,
   "id": "7b5858c0",
   "metadata": {},
   "outputs": [
    {
     "data": {
      "text/plain": [
       "3"
      ]
     },
     "execution_count": 29,
     "metadata": {},
     "output_type": "execute_result"
    }
   ],
   "source": [
    "array6.ndim"
   ]
  },
  {
   "cell_type": "code",
   "execution_count": 30,
   "id": "8b462568",
   "metadata": {},
   "outputs": [
    {
     "data": {
      "text/plain": [
       "(2, 3, 3)"
      ]
     },
     "execution_count": 30,
     "metadata": {},
     "output_type": "execute_result"
    }
   ],
   "source": [
    "array6.shape"
   ]
  },
  {
   "cell_type": "markdown",
   "id": "f5709e75",
   "metadata": {},
   "source": [
    "### <font color=blue>Printing Arrays</font>"
   ]
  },
  {
   "cell_type": "markdown",
   "id": "ff6cb5c3",
   "metadata": {},
   "source": [
    "When you print an array, NumPy displays it in a similar way to nested lists, but with the following layout:\n",
    "• the last axis is printed from left to right,\n",
    "• the second-to-last is printed from top to bottom,\n",
    "• the rest are also printed from top to bottom, with each slice separated from the next by an empty line."
   ]
  },
  {
   "attachments": {
    "Untitled%202.jpg": {
     "image/jpeg": "[encoded data removed]"
    }
   },
   "cell_type": "markdown",
   "id": "9d5ed213",
   "metadata": {},
   "source": [
    "<div>\n",
    "<img src=\"attachment:Untitled%202.jpg\" width=\"400\"/>\n",
    "</div>"
   ]
  },
  {
   "cell_type": "markdown",
   "id": "786a4b83",
   "metadata": {},
   "source": [
    "<font color=maroon>One-dimensional arrays are then printed as rows, bidimensionals as matrices and tridimensionals as lists of matrices</font>"
   ]
  },
  {
   "cell_type": "markdown",
   "id": "9a92ec84",
   "metadata": {},
   "source": [
    "<font color=green>If an array is too large to be printed, NumPy automatically skips the central part of the array and only prints the corners:</font>\n",
    "\n",
    "To disable this behaviour and force numpy to print the whole array, we can change the printing options by using the np.set_printoptions method and passing either of the two arguments :\n",
    "    \n",
    " - np.set_printoptions(threshold=np.inf)\n",
    " - np.set_printoptions(threshold=sys.maxsize)    <i>after importing sys</i>"
   ]
  },
  {
   "cell_type": "code",
   "execution_count": 31,
   "id": "3a032c5d",
   "metadata": {},
   "outputs": [
    {
     "data": {
      "text/plain": [
       "array([   0,    1,    2, ..., 9997, 9998, 9999])"
      ]
     },
     "execution_count": 31,
     "metadata": {},
     "output_type": "execute_result"
    }
   ],
   "source": [
    "a=np.arange(10000)\n",
    "a"
   ]
  },
  {
   "cell_type": "code",
   "execution_count": 32,
   "id": "8496ff4b",
   "metadata": {},
   "outputs": [],
   "source": [
    "import sys\n",
    "np.set_printoptions(threshold=sys.maxsize)\n",
    "# now printing array a would print all the numbers"
   ]
  },
  {
   "cell_type": "markdown",
   "id": "4fa682a9",
   "metadata": {},
   "source": [
    "### <font color=blue>Basic Array Operations</font>"
   ]
  },
  {
   "cell_type": "markdown",
   "id": "37a4c0aa",
   "metadata": {},
   "source": [
    "<font color=maroon>Arithmetic operators on arrays apply elementwise</font>"
   ]
  },
  {
   "cell_type": "code",
   "execution_count": 33,
   "id": "33c52ba9",
   "metadata": {},
   "outputs": [
    {
     "data": {
      "text/plain": [
       "array([0, 1, 2, 3])"
      ]
     },
     "execution_count": 33,
     "metadata": {},
     "output_type": "execute_result"
    }
   ],
   "source": [
    "a = np.array( [20,30,40,50] )\n",
    "b = np.arange( 4 )\n",
    "b"
   ]
  },
  {
   "cell_type": "code",
   "execution_count": 34,
   "id": "b4e60c49",
   "metadata": {},
   "outputs": [
    {
     "data": {
      "text/plain": [
       "array([20, 29, 38, 47])"
      ]
     },
     "execution_count": 34,
     "metadata": {},
     "output_type": "execute_result"
    }
   ],
   "source": [
    "c=a-b\n",
    "c"
   ]
  },
  {
   "cell_type": "code",
   "execution_count": 35,
   "id": "dd8efa85",
   "metadata": {},
   "outputs": [
    {
     "data": {
      "text/plain": [
       "array([0, 1, 4, 9])"
      ]
     },
     "execution_count": 35,
     "metadata": {},
     "output_type": "execute_result"
    }
   ],
   "source": [
    "b**2"
   ]
  },
  {
   "cell_type": "code",
   "execution_count": 36,
   "id": "42f75729",
   "metadata": {},
   "outputs": [
    {
     "data": {
      "text/plain": [
       "array([ 9.12945251, -9.88031624,  7.4511316 , -2.62374854])"
      ]
     },
     "execution_count": 36,
     "metadata": {},
     "output_type": "execute_result"
    }
   ],
   "source": [
    "10*np.sin(a)"
   ]
  },
  {
   "cell_type": "code",
   "execution_count": 37,
   "id": "fef4e5c9",
   "metadata": {},
   "outputs": [
    {
     "data": {
      "text/plain": [
       "array([ True, False, False, False])"
      ]
     },
     "execution_count": 37,
     "metadata": {},
     "output_type": "execute_result"
    }
   ],
   "source": [
    "a<30"
   ]
  },
  {
   "cell_type": "markdown",
   "id": "9a9d80ef",
   "metadata": {},
   "source": [
    "<font color=maroon>The product operator * operates elementwise in NumPy arrrays</font>"
   ]
  },
  {
   "cell_type": "code",
   "execution_count": 38,
   "id": "d90f64b2",
   "metadata": {},
   "outputs": [],
   "source": [
    "a2=np.array([[1,2,3],[4,5,6]])"
   ]
  },
  {
   "cell_type": "code",
   "execution_count": 39,
   "id": "994cd59d",
   "metadata": {},
   "outputs": [],
   "source": [
    "a3=np.array([[7,8,9],[10,11,12]])"
   ]
  },
  {
   "cell_type": "code",
   "execution_count": 40,
   "id": "0a3cd015",
   "metadata": {},
   "outputs": [
    {
     "data": {
      "text/plain": [
       "array([[ 7, 16, 27],\n",
       "       [40, 55, 72]])"
      ]
     },
     "execution_count": 40,
     "metadata": {},
     "output_type": "execute_result"
    }
   ],
   "source": [
    "a2*a3"
   ]
  },
  {
   "cell_type": "markdown",
   "id": "0c3e8055",
   "metadata": {},
   "source": [
    "<font color=maroon>The matrix product\n",
    "can be performed using the @ operator (in python >=3.5) or the dot function or method:</font>"
   ]
  },
  {
   "cell_type": "code",
   "execution_count": 41,
   "id": "e61c99d0",
   "metadata": {},
   "outputs": [],
   "source": [
    "a4=np.array([[3,4],[2,2]])"
   ]
  },
  {
   "cell_type": "code",
   "execution_count": 42,
   "id": "0aef0cb4",
   "metadata": {},
   "outputs": [],
   "source": [
    "a5=np.array([[4,2],[9,4]])"
   ]
  },
  {
   "cell_type": "code",
   "execution_count": 43,
   "id": "e5605297",
   "metadata": {},
   "outputs": [
    {
     "data": {
      "text/plain": [
       "array([[48, 22],\n",
       "       [26, 12]])"
      ]
     },
     "execution_count": 43,
     "metadata": {},
     "output_type": "execute_result"
    }
   ],
   "source": [
    "a4@a5 #using @ operator"
   ]
  },
  {
   "cell_type": "code",
   "execution_count": 44,
   "id": "24fa66e2",
   "metadata": {},
   "outputs": [
    {
     "data": {
      "text/plain": [
       "array([[48, 22],\n",
       "       [26, 12]])"
      ]
     },
     "execution_count": 44,
     "metadata": {},
     "output_type": "execute_result"
    }
   ],
   "source": [
    "a4.dot(a5) #using dot function"
   ]
  },
  {
   "cell_type": "code",
   "execution_count": 45,
   "id": "aea41c06",
   "metadata": {},
   "outputs": [],
   "source": [
    "a6=np.array([[1,2,3],[4,5,6]])"
   ]
  },
  {
   "cell_type": "code",
   "execution_count": 46,
   "id": "9e314ff8",
   "metadata": {},
   "outputs": [],
   "source": [
    "a7=np.array([[7,8],[9,10],[11,12]])"
   ]
  },
  {
   "cell_type": "code",
   "execution_count": 47,
   "id": "e9a00634",
   "metadata": {},
   "outputs": [
    {
     "data": {
      "text/plain": [
       "array([[ 58,  64],\n",
       "       [139, 154]])"
      ]
     },
     "execution_count": 47,
     "metadata": {},
     "output_type": "execute_result"
    }
   ],
   "source": [
    "a6@a7 # matrix product of a 2*3 and 3*2 matrix"
   ]
  },
  {
   "cell_type": "code",
   "execution_count": null,
   "id": "6e3b807b",
   "metadata": {},
   "outputs": [],
   "source": [
    "    "
   ]
  },
  {
   "cell_type": "code",
   "execution_count": null,
   "id": "18547ead-f60f-45bb-8935-610b8c531b65",
   "metadata": {},
   "outputs": [],
   "source": []
  },
  {
   "cell_type": "code",
   "execution_count": null,
   "id": "2c09f68e-6574-44bf-9a1c-9d08dc342e18",
   "metadata": {},
   "outputs": [],
   "source": []
  },
  {
   "cell_type": "code",
   "execution_count": null,
   "id": "7989fd09-767a-4487-b45a-4720bbac9ef5",
   "metadata": {},
   "outputs": [],
   "source": []
  },
  {
   "cell_type": "code",
   "execution_count": null,
   "id": "38fe6793-1788-417c-8332-c8cf463a05a2",
   "metadata": {},
   "outputs": [],
   "source": []
  }
 ],
 "metadata": {
  "kernelspec": {
   "display_name": "Python 3 (ipykernel)",
   "language": "python",
   "name": "python3"
  },
  "language_info": {
   "codemirror_mode": {
    "name": "ipython",
    "version": 3
   },
   "file_extension": ".py",
   "mimetype": "text/x-python",
   "name": "python",
   "nbconvert_exporter": "python",
   "pygments_lexer": "ipython3",
   "version": "3.9.7"
  },
  "toc-autonumbering": true,
  "toc-showcode": true
 },
 "nbformat": 4,
 "nbformat_minor": 5
}
